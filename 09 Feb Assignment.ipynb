{
 "cells": [
  {
   "cell_type": "markdown",
   "id": "704beb4f-1edf-4a16-9cb1-3217ade13bbd",
   "metadata": {},
   "source": [
    "Q1, Create a vehicle class with an init method having instance variables as name_of_vehicle, max_speed\n",
    "and average_of_vehicle."
   ]
  },
  {
   "cell_type": "markdown",
   "id": "d952163a-114f-4663-af95-e64746c5b9e8",
   "metadata": {},
   "source": [
    "Ans"
   ]
  },
  {
   "cell_type": "code",
   "execution_count": 13,
   "id": "afd0ef0c-f3eb-4442-9336-e338d51e8cb0",
   "metadata": {},
   "outputs": [],
   "source": [
    "#Defining Class\n",
    "class vehicle:\n",
    "    # defining function\n",
    "    def __init__(self,name_of_vehicle,max_speed,average_of_vehicle):\n",
    "        self.name_of_vehicle = name_of_vehicle \n",
    "        self.max_speed = max_speed\n",
    "        self.average_of_vehicle = average_of_vehicle"
   ]
  },
  {
   "cell_type": "markdown",
   "id": "df305d98-79a9-48c3-8666-dc8986f59b0d",
   "metadata": {},
   "source": [
    "Q2. Create a child class car from the vehicle class created in Que 1, which will inherit the vehicle class.\n",
    "Create a method named seating_capacity which takes capacity as an argument and returns the name of\n",
    "the vehicle and its seating capacity."
   ]
  },
  {
   "cell_type": "markdown",
   "id": "b984ae2d-3491-4dfe-af04-f515924f41ce",
   "metadata": {},
   "source": [
    "Ans"
   ]
  },
  {
   "cell_type": "code",
   "execution_count": 14,
   "id": "2d58dce8-02c7-4a75-86ce-5e07a21e655f",
   "metadata": {},
   "outputs": [],
   "source": [
    "#Creating child class\n",
    "class car(vehicle):\n",
    "    #defining function\n",
    "    def seating_capacity(self,capacity):\n",
    "        return self.name_of_vehicle , capacity #returing the given value"
   ]
  },
  {
   "cell_type": "markdown",
   "id": "1de67b62-83f0-478b-841c-349ad521bc36",
   "metadata": {},
   "source": [
    "Q3. What is multiple inheritance? Write a python code to demonstrate multiple inheritance."
   ]
  },
  {
   "cell_type": "markdown",
   "id": "d9ef60e3-1918-4080-ae88-ff9bf2e7cc23",
   "metadata": {},
   "source": [
    "Ans"
   ]
  },
  {
   "cell_type": "markdown",
   "id": "58a3b780-ebb5-4453-9f0f-d905a0068212",
   "metadata": {},
   "source": [
    "Multiple inheritance is a feature of object oriented programming that allows a class to inherit attributes and methods from the multiple parent classes. In other words, a child class can inherit from more than one parent class, gaining the attributesand methods of each parent class."
   ]
  },
  {
   "cell_type": "code",
   "execution_count": 15,
   "id": "d48d7dc2-3256-47be-96ac-36c66562a124",
   "metadata": {},
   "outputs": [
    {
     "name": "stdout",
     "output_type": "stream",
     "text": [
      "This is mother\n",
      "This is mother\n"
     ]
    }
   ],
   "source": [
    "#Creating father class\n",
    "class father :\n",
    "    #Defining Function\n",
    "    def parent1(self) :\n",
    "        return \"This is father\"\n",
    "#creating mother class\n",
    "class mother :\n",
    "    #Defining function\n",
    "    def parent2(self):\n",
    "        return \"This is mother\"\n",
    "#Creating child class\n",
    "class child(father,mother): #inheriting with other classes\n",
    "    pass\n",
    "\n",
    "\n",
    "c = child() #creating object\n",
    "#Dislaying\n",
    "print(c.parent2()) #Output This is father\n",
    "print(c.parent2()) #Output This is mother"
   ]
  },
  {
   "cell_type": "markdown",
   "id": "4165f447-fa3c-494c-a08b-407973e73d12",
   "metadata": {},
   "source": [
    "Q4. What are getter and setter in python? Create a class and create a getter and a setter method in this\n",
    "class."
   ]
  },
  {
   "cell_type": "markdown",
   "id": "393b1cfa-e02b-45ae-a62d-b46d2a165668",
   "metadata": {},
   "source": [
    "Ans"
   ]
  },
  {
   "cell_type": "markdown",
   "id": "c4c66ffe-eaac-49c4-a5e2-743d86035dda",
   "metadata": {},
   "source": [
    "Getters and setters are method in python that allow you to access and modify the value of an object's instance variable. Getters are used to retrieve the value of an istance variable, while setters are used to set the value of an instance variable. Getters and setters allow you to define the behavior of accessing and modifying an instance variable, making it easier to maintain the integrity of the object's data."
   ]
  },
  {
   "cell_type": "code",
   "execution_count": 16,
   "id": "535136cd-12d2-4768-8c7a-dfe2b330f72b",
   "metadata": {},
   "outputs": [
    {
     "name": "stdout",
     "output_type": "stream",
     "text": [
      "Ram\n"
     ]
    }
   ],
   "source": [
    "#Defing class\n",
    "class person:\n",
    "    #defining function\n",
    "    def __init__(self,name):\n",
    "        self._name =  name\n",
    "        \n",
    "    def get_name(self):\n",
    "        return self._name\n",
    "    \n",
    "    def set_name(self):\n",
    "        self._name = name\n",
    "        \n",
    "    name = property(get_name, set_name)\n",
    "#creating object\n",
    "Person = person(\"Ram\")\n",
    "#Displaying value\n",
    "print(Person.name) #Output Ram"
   ]
  },
  {
   "cell_type": "markdown",
   "id": "10004a52-23ce-49d0-8784-11897ba165a7",
   "metadata": {},
   "source": [
    "Q5.What is method overriding in python? Write a python code to demonstrate method overriding."
   ]
  },
  {
   "cell_type": "markdown",
   "id": "1756f1b3-8d3c-48a8-98cb-3c80265714b2",
   "metadata": {},
   "source": [
    "Ans."
   ]
  },
  {
   "cell_type": "markdown",
   "id": "1d213430-901f-4370-a192-6881a6f45a81",
   "metadata": {},
   "source": [
    " Method overriding is a feature of object-oriented programming languages where the subclass or child class can provide the program with specific characteristics or a specific implementation process of data provided that are already defined in the parent class or superclass"
   ]
  },
  {
   "cell_type": "code",
   "execution_count": 17,
   "id": "a8c22ae8-1bd5-4911-be41-2415b32554a5",
   "metadata": {},
   "outputs": [
    {
     "name": "stdout",
     "output_type": "stream",
     "text": [
      "Inside Parent\n",
      "Inside Child\n"
     ]
    }
   ],
   "source": [
    "# Example\n",
    "# Defining parent class\n",
    "class Parent():\n",
    "      \n",
    "    # Constructor\n",
    "    def __init__(self):\n",
    "        self.value = \"Inside Parent\"\n",
    "          \n",
    "    # Parent's show method\n",
    "    def show(self):\n",
    "        print(self.value)\n",
    "          \n",
    "# Defining child class\n",
    "class Child(Parent):\n",
    "      \n",
    "    # Constructor\n",
    "    def __init__(self):\n",
    "        self.value = \"Inside Child\"\n",
    "          \n",
    "    # Child's show method\n",
    "    def show(self):\n",
    "        print(self.value)\n",
    "          \n",
    "          \n",
    "# Driver's code\n",
    "obj1 = Parent()\n",
    "obj2 = Child()\n",
    "  \n",
    "obj1.show()\n",
    "obj2.show()"
   ]
  }
 ],
 "metadata": {
  "kernelspec": {
   "display_name": "Python 3 (ipykernel)",
   "language": "python",
   "name": "python3"
  },
  "language_info": {
   "codemirror_mode": {
    "name": "ipython",
    "version": 3
   },
   "file_extension": ".py",
   "mimetype": "text/x-python",
   "name": "python",
   "nbconvert_exporter": "python",
   "pygments_lexer": "ipython3",
   "version": "3.10.8"
  }
 },
 "nbformat": 4,
 "nbformat_minor": 5
}
