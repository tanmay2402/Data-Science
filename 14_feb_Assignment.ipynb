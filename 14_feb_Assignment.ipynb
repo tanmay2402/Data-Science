{
 "cells": [
  {
   "cell_type": "markdown",
   "id": "f24336c1-693b-466c-8143-d2d9ef50a2fc",
   "metadata": {},
   "source": [
    "Q1 What is multithreading in python? Why is it used? Name the module used to handle threads in python."
   ]
  },
  {
   "cell_type": "markdown",
   "id": "5592436d-3ab4-459b-a43a-52a84c831aea",
   "metadata": {},
   "source": [
    "Ans."
   ]
  },
  {
   "cell_type": "markdown",
   "id": "bf4cbcbd-c7b3-45d3-a062-4248bbcb801f",
   "metadata": {},
   "source": [
    "Multithreading in Python refers to the execution of multiple threads in a single program. Each thread is an independent flow of execution, with its own call stack and state. Threads allow a program to perform multiple tasks concurrently, thereby increasing the overall performance and responsiveness of the program.\n",
    "\n",
    "Threads are used to handle I/O bound and network-bound tasks, where the waiting time for the results is much longer than the time required for computation. Using threads, a program can perform other tasks while waiting for the I/O or network response.\n",
    "\n",
    "The threading module is used to handle threads in Python. It provides a way to create and manipulate threads in a Python program. The threading module also provides synchronization primitives like locks, events, and semaphores to manage access to shared resources between threads."
   ]
  },
  {
   "cell_type": "markdown",
   "id": "da8212de-6932-4b10-b560-41f7f76cf6ea",
   "metadata": {},
   "source": [
    "Q2 Why threading module used? rite the use of the following functions\n",
    "\n",
    "1.activeCount\n",
    "\n",
    "2.currentThread\n",
    "\n",
    "3.enumerate"
   ]
  },
  {
   "cell_type": "markdown",
   "id": "08b701d3-9386-49a6-84d2-808c7b44cbd2",
   "metadata": {},
   "source": [
    "Ans."
   ]
  },
  {
   "cell_type": "markdown",
   "id": "9b4e7a40-02bd-4126-bf2d-579e291582a8",
   "metadata": {},
   "source": [
    "The newer threading module included with Python 2.4 provides much more powerful, high-level support for threads than the thread module"
   ]
  },
  {
   "cell_type": "markdown",
   "id": "c9d3d960-d890-4ebe-aff9-d5dbdb1be615",
   "metadata": {},
   "source": [
    "activeCount() − Returns the number of thread objects that are active.\n",
    "\n",
    "currentThread() − Returns the number of thread objects in the caller's thread control.\n",
    "\n",
    "enumerate() − Returns a list of all thread objects that are currently active."
   ]
  },
  {
   "cell_type": "markdown",
   "id": "f072cba5-33fb-43eb-9879-6f544945addc",
   "metadata": {},
   "source": [
    "Q3. Explain the following functions\n",
    "\n",
    "i. run()\n",
    "ii. start()\n",
    "iii. join()\n",
    "iv. isAlive()"
   ]
  },
  {
   "cell_type": "markdown",
   "id": "93cc2774-9eea-4604-b39f-4838f7481ebc",
   "metadata": {},
   "source": [
    "Ans."
   ]
  },
  {
   "cell_type": "markdown",
   "id": "9fe56756-545d-499c-b870-4e3649fd604f",
   "metadata": {},
   "source": [
    "i. run(): This method is the entry point for the thread. Once the thread is started, the run() method is the first method to execute. It can be overridden to define custom functionality for the thread.\n",
    "\n",
    "ii. start(): This method starts the thread by calling the run() method. It creates a new thread of execution and begins executing it.\n",
    "\n",
    "iii. join(): This method waits for the thread to finish its execution. If this method is called on a thread, the calling thread is blocked until the thread being joined is finished.\n",
    "\n",
    "iv. isAlive(): This method returns a boolean value indicating whether the thread is still executing. If the thread is still executing, the method returns True, otherwise it returns False."
   ]
  },
  {
   "cell_type": "markdown",
   "id": "7784ac66-65d7-4ba2-8ec8-358b3ad31f26",
   "metadata": {},
   "source": [
    "Q4. Write a python program to create two threads. Thread one must print the list of squares and thread two must print the list of cubes."
   ]
  },
  {
   "cell_type": "markdown",
   "id": "7f4d8869-9fb4-4b79-9aaf-6087787492ee",
   "metadata": {},
   "source": [
    "Ans."
   ]
  },
  {
   "cell_type": "code",
   "execution_count": 1,
   "id": "5c5c1ce1-2740-45b3-99a2-81db2c0e4f37",
   "metadata": {},
   "outputs": [
    {
     "name": "stdout",
     "output_type": "stream",
     "text": [
      "Squares:\n",
      "1\n",
      "4\n",
      "9\n",
      "16\n",
      "25\n",
      "Cubes:\n",
      "1\n",
      "8\n",
      "27\n",
      "64\n",
      "125\n",
      "Done\n"
     ]
    }
   ],
   "source": [
    "\n",
    "import threading\n",
    "\n",
    "def print_squares(nums):\n",
    "    print(\"Squares:\")\n",
    "    for num in nums:\n",
    "        print(num * num)\n",
    "\n",
    "def print_cubes(nums):\n",
    "    print(\"Cubes:\")\n",
    "    for num in nums:\n",
    "        print(num * num * num)\n",
    "\n",
    "nums = [1, 2, 3, 4, 5]\n",
    "\n",
    "t1 = threading.Thread(target=print_squares, args=(nums,))\n",
    "t2 = threading.Thread(target=print_cubes, args=(nums,))\n",
    "\n",
    "t1.start()\n",
    "t2.start()\n",
    "\n",
    "t1.join()\n",
    "t2.join()\n",
    "\n",
    "print(\"Done\")"
   ]
  },
  {
   "cell_type": "markdown",
   "id": "915c1e59-9c17-4145-a6cf-20bbb4d6097d",
   "metadata": {},
   "source": [
    "Q5. State advantages and disadvantages of multithreading"
   ]
  },
  {
   "cell_type": "markdown",
   "id": "ce163349-98d3-49d9-8563-577f25385a5b",
   "metadata": {},
   "source": [
    "Ans."
   ]
  },
  {
   "cell_type": "markdown",
   "id": "e401cec0-e8db-46ec-9eae-41c09cd9b8d2",
   "metadata": {},
   "source": [
    "Advantages:\n",
    "\n",
    "i.Improved performance and increased efficiency by allowing multiple tasks to execute simultaneously.\n",
    "\n",
    "ii.Better use of system resources, since the threads can run in parallel on multiple CPU cores.\n",
    "\n",
    "iii.Enhanced user experience by keeping the application responsive while performing time-consuming tasks in the background.\n",
    "\n",
    "iv.Better use of memory since threads can share the same memory space.\n",
    "\n",
    "Disadvantages:\n",
    "\n",
    "i.Increased complexity of the code, since the programmer needs to synchronize access to shared data and resources.\n",
    "\n",
    "ii.Difficulty in debugging since it is harder to identify and isolate the cause of the problems that arise due to multiple threads running at the same time.\n",
    "\n",
    "iii.Increased resource consumption due to the overhead of creating and managing threads.\n",
    "\n",
    "iv.Risk of deadlocks and race conditions when multiple threads access shared data simultaneously."
   ]
  },
  {
   "cell_type": "markdown",
   "id": "839db60c-d96c-48bb-9dfa-5c03704a32fe",
   "metadata": {},
   "source": [
    "Q6. Explain deadlocks and race conditions."
   ]
  },
  {
   "cell_type": "markdown",
   "id": "b837c6ce-a787-4712-aa69-18a928963795",
   "metadata": {},
   "source": [
    "Ans."
   ]
  },
  {
   "cell_type": "markdown",
   "id": "96980c3b-ab54-421a-a424-56f2e8d626ae",
   "metadata": {},
   "source": [
    "Deadlock and race condition are two common problems that can occur in a multithreaded environment:\n",
    "\n",
    "Deadlock : A deadlock occurs when two or more threads are blocked, each waiting for the other to release a resource, which it holds. In other words, a set of processes are blocked and none of them can continue until one or more of the other processes completes.\n",
    "\n",
    "Race Condition: A race condition occurs when two or more threads can access shared data and they try to change it at the same time. As a result, the values of variables may be unpredictable and vary depending on the timings of context switching of the processes.\n",
    "\n",
    "Both deadlocks and race conditions can cause program crashes or other serious errors in multithreaded programs. They can be difficult to detect and fix, and can often be avoided through careful design and synchronization of shared resources in the program."
   ]
  }
 ],
 "metadata": {
  "kernelspec": {
   "display_name": "Python 3 (ipykernel)",
   "language": "python",
   "name": "python3"
  },
  "language_info": {
   "codemirror_mode": {
    "name": "ipython",
    "version": 3
   },
   "file_extension": ".py",
   "mimetype": "text/x-python",
   "name": "python",
   "nbconvert_exporter": "python",
   "pygments_lexer": "ipython3",
   "version": "3.10.8"
  }
 },
 "nbformat": 4,
 "nbformat_minor": 5
}
