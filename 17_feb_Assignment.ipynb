{
 "cells": [
  {
   "cell_type": "markdown",
   "id": "8d0b4d30-b5a8-4fa7-bf70-f0530397b8b5",
   "metadata": {},
   "source": [
    "Q1. What is MongoDB? Explain non-relational databases in short. In which scenarios it is preferred to use MongoDB over SQL databases?"
   ]
  },
  {
   "cell_type": "markdown",
   "id": "d4b348b9-0ca6-4094-bb93-be99df892a78",
   "metadata": {},
   "source": [
    "Ans."
   ]
  },
  {
   "cell_type": "markdown",
   "id": "e7cc4e06-16e1-4ed7-a897-7151c6aa8581",
   "metadata": {},
   "source": [
    "MongoDB is a popular NoSQL (non-relational) database management system that stores data in the form of documents, which are JSON-like data structures. Unlike SQL databases, MongoDB is not based on tables with fixed columns and rows, but on collections of documents that can have varying fields and sizes.\n",
    "\n",
    "Non-relational databases are designed to handle large and unstructured data sets that don't fit well into the rigid structure of relational databases. They are more flexible and scalable, and can handle semi-structured and even completely unstructured data such as text, images, videos, and social media feeds.\n",
    "\n",
    "MongoDB is preferred over SQL databases in scenarios where there is a need for a flexible and scalable database that can handle a variety of data types, such as in web and mobile applications that require fast and easy data access and modification. It is also useful for real-time analytics, social media, and IoT applications that require fast data ingestion and retrieval, and where there is a need for data replication and sharding for high availability and performance."
   ]
  },
  {
   "cell_type": "markdown",
   "id": "6a2332d1-0cce-4145-be8c-979305a330c0",
   "metadata": {},
   "source": [
    "Q2. State and Explain the features of MongoDB."
   ]
  },
  {
   "cell_type": "markdown",
   "id": "feae9580-7323-4489-94ff-b145345e536b",
   "metadata": {},
   "source": [
    "Ans."
   ]
  },
  {
   "cell_type": "markdown",
   "id": "8eb38df1-7b30-47aa-8ec2-97f4ca579346",
   "metadata": {},
   "source": [
    "MongoDB is a popular NoSQL database that offers a number of features that are not available in traditional SQL databases. Some of the key features of MongoDB are:\n",
    "\n",
    "1.Schemaless: Unlike SQL databases, MongoDB is schemaless, meaning that the database does not enforce a specific data structure. This allows for greater flexibility in storing data and enables rapid development.\n",
    "\n",
    "2.Document-Oriented: MongoDB stores data in documents, which are similar to JSON objects. This makes it easy to work with data in applications and simplifies data modeling.\n",
    "\n",
    "3.High Performance: MongoDB is designed for high performance and can handle a large number of reads and writes. It uses a memory-mapped file system that allows for faster access to data.\n",
    "\n",
    "4.Scalable: MongoDB is highly scalable and can be used for both small and large-scale applications. It allows for the addition of more servers to a cluster to handle increased traffic.\n",
    "\n",
    "5.Flexible Data Model: MongoDB's flexible data model allows for the storage of different data types in the same collection. This enables developers to store data in a way that makes the most sense for their application.\n",
    "\n",
    "6.Indexing: MongoDB supports indexing, which allows for faster queries and data retrieval.\n",
    "\n",
    "7.Aggregation Framework: MongoDB has a powerful aggregation framework that allows for complex data analysis and manipulation."
   ]
  },
  {
   "cell_type": "markdown",
   "id": "9b57b754-e5aa-4494-b7dd-b5c53dc6a860",
   "metadata": {},
   "source": [
    "Q4. Using the database and the collection created in question number 3, write a code to insert one record, and insert many records. Use the find() and find_one() methods to print the inserted record.\n",
    "\n"
   ]
  },
  {
   "cell_type": "markdown",
   "id": "4822857c-5a73-47b8-a979-8ca071404b2f",
   "metadata": {},
   "source": [
    "Ans."
   ]
  },
  {
   "cell_type": "code",
   "execution_count": 1,
   "id": "8c36220e-38c5-4da7-ac5d-95e5613a15b7",
   "metadata": {},
   "outputs": [
    {
     "ename": "ModuleNotFoundError",
     "evalue": "No module named 'pymongo'",
     "output_type": "error",
     "traceback": [
      "\u001b[0;31m---------------------------------------------------------------------------\u001b[0m",
      "\u001b[0;31mModuleNotFoundError\u001b[0m                       Traceback (most recent call last)",
      "Cell \u001b[0;32mIn[1], line 2\u001b[0m\n\u001b[1;32m      1\u001b[0m \u001b[38;5;66;03m# Importing required libraries\u001b[39;00m\n\u001b[0;32m----> 2\u001b[0m \u001b[38;5;28;01mfrom\u001b[39;00m \u001b[38;5;21;01mpymongo\u001b[39;00m \u001b[38;5;28;01mimport\u001b[39;00m MongoClient\n\u001b[1;32m      4\u001b[0m \u001b[38;5;66;03m# Creating a MongoClient and connecting to the MongoDB instance\u001b[39;00m\n\u001b[1;32m      5\u001b[0m client \u001b[38;5;241m=\u001b[39m MongoClient()\n",
      "\u001b[0;31mModuleNotFoundError\u001b[0m: No module named 'pymongo'"
     ]
    }
   ],
   "source": [
    "# Importing required libraries\n",
    "from pymongo import MongoClient\n",
    "\n",
    "# Creating a MongoClient and connecting to the MongoDB instance\n",
    "client = MongoClient()\n",
    "db = client.mydatabase  # Creating a new database 'mydatabase'\n",
    "collection = db.mycollection  # Creating a new collection 'mycollection'\n",
    "\n",
    "# Inserting a single record\n",
    "record = {\"name\": \"John Doe\", \"age\": 30, \"city\": \"New York\"}\n",
    "collection.insert_one(record)\n",
    "print(\"Single record inserted successfully.\")\n",
    "\n",
    "# Inserting multiple records\n",
    "records = [\n",
    "    {\"name\": \"Jane Doe\", \"age\": 25, \"city\": \"Chicago\"},\n",
    "    {\"name\": \"Bob Smith\", \"age\": 40, \"city\": \"San Francisco\"},\n",
    "    {\"name\": \"Alice Johnson\", \"age\": 35, \"city\": \"Boston\"}\n",
    "]\n",
    "collection.insert_many(records)\n",
    "print(\"Multiple records inserted successfully.\")\n",
    "\n",
    "# Retrieving a single record\n",
    "record = collection.find_one({\"name\": \"John Doe\"})\n",
    "print(\"Single record retrieved:\")\n",
    "print(record)\n",
    "\n",
    "# Retrieving multiple records\n",
    "records = collection.find({\"city\": \"Boston\"})\n",
    "print(\"Multiple records retrieved:\")\n",
    "for record in records:\n",
    "    print(record)"
   ]
  },
  {
   "cell_type": "markdown",
   "id": "fb91ece0-e939-4092-a0b5-30bbecd7b9b2",
   "metadata": {},
   "source": [
    "\n",
    "Q5. Explain how you can use the find() method to query the MongoDB database. Write a simple code to demonstrate this."
   ]
  },
  {
   "cell_type": "markdown",
   "id": "6657d866-1843-4cf7-a56f-61157315a650",
   "metadata": {},
   "source": [
    "Ans."
   ]
  },
  {
   "cell_type": "markdown",
   "id": "4ec7f88b-053c-4f28-be89-18b6d98116ca",
   "metadata": {},
   "source": [
    "The find() method in MongoDB is used to query the database and retrieve documents that match certain criteria. It takes a dictionary object as a parameter, with key-value pairs that specify the criteria to search for. The find() method returns a cursor object, which can be iterated over to access the matching documents."
   ]
  },
  {
   "cell_type": "code",
   "execution_count": 2,
   "id": "1570d290-b076-48b4-8d1d-69bacf3e79b4",
   "metadata": {},
   "outputs": [
    {
     "ename": "ModuleNotFoundError",
     "evalue": "No module named 'pymongo'",
     "output_type": "error",
     "traceback": [
      "\u001b[0;31m---------------------------------------------------------------------------\u001b[0m",
      "\u001b[0;31mModuleNotFoundError\u001b[0m                       Traceback (most recent call last)",
      "Cell \u001b[0;32mIn[2], line 1\u001b[0m\n\u001b[0;32m----> 1\u001b[0m \u001b[38;5;28;01mimport\u001b[39;00m \u001b[38;5;21;01mpymongo\u001b[39;00m\n\u001b[1;32m      3\u001b[0m \u001b[38;5;66;03m# establish a connection to MongoDB\u001b[39;00m\n\u001b[1;32m      4\u001b[0m client \u001b[38;5;241m=\u001b[39m pymongo\u001b[38;5;241m.\u001b[39mMongoClient(\u001b[38;5;124m\"\u001b[39m\u001b[38;5;124mmongodb://localhost:27017/\u001b[39m\u001b[38;5;124m\"\u001b[39m)\n",
      "\u001b[0;31mModuleNotFoundError\u001b[0m: No module named 'pymongo'"
     ]
    }
   ],
   "source": [
    "import pymongo\n",
    "\n",
    "# establish a connection to MongoDB\n",
    "client = pymongo.MongoClient(\"mongodb://localhost:27017/\")\n",
    "\n",
    "# select a database and collection\n",
    "db = client[\"mydatabase\"]\n",
    "collection = db[\"customers\"]\n",
    "\n",
    "# query for all documents in the collection\n",
    "results = collection.find()\n",
    "\n",
    "# iterate over the cursor object and print the documents\n",
    "for document in results:\n",
    "    print(document)\n"
   ]
  },
  {
   "cell_type": "markdown",
   "id": "0ae0de11-26a0-497f-ba4b-2ada6632ef56",
   "metadata": {},
   "source": [
    "Q6. Explain the sort() method. Give an example to demonstrate sorting in MongoDB."
   ]
  },
  {
   "cell_type": "markdown",
   "id": "47dde50a-85a4-48ed-9fe4-d46d6adcb731",
   "metadata": {},
   "source": [
    "Ans."
   ]
  },
  {
   "cell_type": "markdown",
   "id": "70da43b6-4c55-44f4-9cfb-af11b4f8e484",
   "metadata": {},
   "source": [
    "The sort() method in MongoDB is used to sort the results of a query in either ascending or descending order based on one or more fields. The sort() method takes one parameter, which is a dictionary containing the fields and sort order.\n",
    "\n"
   ]
  },
  {
   "cell_type": "code",
   "execution_count": 3,
   "id": "40440f2b-b248-4589-b48c-6d34c63aa909",
   "metadata": {},
   "outputs": [
    {
     "ename": "ModuleNotFoundError",
     "evalue": "No module named 'pymongo'",
     "output_type": "error",
     "traceback": [
      "\u001b[0;31m---------------------------------------------------------------------------\u001b[0m",
      "\u001b[0;31mModuleNotFoundError\u001b[0m                       Traceback (most recent call last)",
      "Cell \u001b[0;32mIn[3], line 2\u001b[0m\n\u001b[1;32m      1\u001b[0m \u001b[38;5;66;03m# Import the MongoClient class from the pymongo module\u001b[39;00m\n\u001b[0;32m----> 2\u001b[0m \u001b[38;5;28;01mfrom\u001b[39;00m \u001b[38;5;21;01mpymongo\u001b[39;00m \u001b[38;5;28;01mimport\u001b[39;00m MongoClient\n\u001b[1;32m      4\u001b[0m \u001b[38;5;66;03m# Create a MongoClient object and connect to the database\u001b[39;00m\n\u001b[1;32m      5\u001b[0m client \u001b[38;5;241m=\u001b[39m MongoClient()\n",
      "\u001b[0;31mModuleNotFoundError\u001b[0m: No module named 'pymongo'"
     ]
    }
   ],
   "source": [
    "# Import the MongoClient class from the pymongo module\n",
    "from pymongo import MongoClient\n",
    "\n",
    "# Create a MongoClient object and connect to the database\n",
    "client = MongoClient()\n",
    "db = client['mydb']\n",
    "\n",
    "# Get the \"users\" collection\n",
    "users = db['users']\n",
    "\n",
    "# Sort the documents based on the \"age\" field in descending order\n",
    "sorted_users = users.find().sort(\"age\", -1)\n",
    "\n",
    "# Print the sorted documents\n",
    "for user in sorted_users:\n",
    "    print(user)"
   ]
  },
  {
   "cell_type": "markdown",
   "id": "3caf3fbd-2502-46df-aaeb-5f16740ea519",
   "metadata": {},
   "source": [
    "Q7. Explain why delete_one(), delete_many(), and drop() is used."
   ]
  },
  {
   "cell_type": "markdown",
   "id": "5c384c48-e7d0-4677-b9b7-052740abcc11",
   "metadata": {},
   "source": [
    "Ans."
   ]
  },
  {
   "cell_type": "markdown",
   "id": "f75cad5e-f1e5-40de-bc92-a68f8b1b3d87",
   "metadata": {},
   "source": [
    "In MongoDB, delete_one() method is used to delete a single document that matches a specified filter criteria. It will delete the first document that matches the filter criteria.\n",
    "\n",
    "delete_many() method is used to delete all the documents that match a specified filter criteria.\n",
    "\n",
    "drop() method is used to drop an entire collection from a database. This method removes all the documents from a collection as well as the collection itself.\n",
    "\n",
    "These methods are used to delete or drop data from MongoDB collections when it is no longer needed or is invalid. For example, if a user wants to remove all the documents that have a particular value in a field, the delete_many() method can be used. If the user wants to remove the entire collection, the drop() method can be used.S"
   ]
  }
 ],
 "metadata": {
  "kernelspec": {
   "display_name": "Python 3 (ipykernel)",
   "language": "python",
   "name": "python3"
  },
  "language_info": {
   "codemirror_mode": {
    "name": "ipython",
    "version": 3
   },
   "file_extension": ".py",
   "mimetype": "text/x-python",
   "name": "python",
   "nbconvert_exporter": "python",
   "pygments_lexer": "ipython3",
   "version": "3.10.8"
  }
 },
 "nbformat": 4,
 "nbformat_minor": 5
}
