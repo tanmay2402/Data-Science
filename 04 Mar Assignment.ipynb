{
 "cells": [
  {
   "cell_type": "markdown",
   "id": "52378c7e-aea4-41ad-92fb-60207fb83872",
   "metadata": {},
   "source": [
    "Q1. Load the \"titanic\" dataset using the load_dataset function of seaborn. Use Plotly express to plot a\n",
    "scatter plot for age and fare columns in the titanic dataset."
   ]
  },
  {
   "cell_type": "markdown",
   "id": "a47f6bf1-97e3-471a-a8a4-e86ebc226e00",
   "metadata": {},
   "source": [
    "Ans"
   ]
  },
  {
   "cell_type": "markdown",
   "id": "0251709d-55fa-4bd3-8e6b-ab8ac2e5d4d2",
   "metadata": {},
   "source": [
    "import seaborn as sns import plotly.express as px # Load the titanic dataset titanic_data = sns.load_dataset(\"titanic\") # Create a scatter plot for age and fare columns scatter_plot = px.scatter(titanic_data, x=\"age\", y=\"fare\") # Show the scatter plot scatter_plot.show()"
   ]
  },
  {
   "cell_type": "markdown",
   "id": "136b6e18-2c1d-4b64-a4ab-df5bb1686079",
   "metadata": {},
   "source": [
    "Q2. Using the tips dataset in the Plotly library, plot a box plot using Plotly express."
   ]
  },
  {
   "cell_type": "markdown",
   "id": "89518e57-f59b-42ea-a213-e4df32733fa3",
   "metadata": {},
   "source": [
    "Ans"
   ]
  },
  {
   "cell_type": "markdown",
   "id": "e19e3950-5069-44a7-91fd-2a290d7323e0",
   "metadata": {},
   "source": [
    "# Load the tips dataset from Plotly tips_data = px.data.tips() # Create a box plot for total bill and day of the week box_plot = px.box(tips_data, x=\"day\", y=\"total_bill\") # Show the box plot box_plot.show()"
   ]
  },
  {
   "cell_type": "markdown",
   "id": "44e24111-0c9a-4cae-b881-aac06dc7e12c",
   "metadata": {},
   "source": [
    "Q3. Using the tips dataset in the Plotly library, Plot a histogram for x= \"sex\" and y=\"total_bill\" column in\n",
    "the tips dataset. Also, use the \"smoker\" column with the pattern_shape parameter and the \"day\"\n",
    "column with the color parameter."
   ]
  },
  {
   "cell_type": "markdown",
   "id": "0bba8bc7-de3c-4a3e-a9b5-1e488796c19d",
   "metadata": {},
   "source": [
    "Ans"
   ]
  },
  {
   "cell_type": "code",
   "execution_count": 5,
   "id": "51766fab-9352-4e16-a8fe-24a67c86ca3e",
   "metadata": {},
   "outputs": [],
   "source": [
    "# Load the tips dataset from Plotly tips_data = px.data.tips() # Create a histogram for total bill, with sex on the x-axis and smoker on the pattern_shape parameter histogram = px.histogram(tips_data, x=\"sex\", y=\"total_bill\", color=\"day\", pattern_shape=\"smoker\") # Show the histogram histogram.show()"
   ]
  },
  {
   "cell_type": "markdown",
   "id": "a6377ac1-b5cd-43fe-835e-a421ce367ae1",
   "metadata": {},
   "source": [
    "Q4. Using the iris dataset in the Plotly library, Plot a scatter matrix plot, using the \"species\" column for\n",
    "the color parameter.\n",
    "Note: Use \"sepal_length\", \"sepal_width\", \"petal_length\", \"petal_width\" columns only with the\n",
    "dimensions parameter."
   ]
  },
  {
   "cell_type": "markdown",
   "id": "dfaf4fc3-548f-4c21-9864-2a77d0605f7e",
   "metadata": {},
   "source": [
    "Ans"
   ]
  },
  {
   "cell_type": "code",
   "execution_count": 6,
   "id": "9edd5f0b-94fd-44d1-932f-c6d2b5792d62",
   "metadata": {},
   "outputs": [],
   "source": [
    "# Load the iris dataset from Plotly iris_data = px.data.iris() # Create a scatter matrix plot scatter_matrix = px.scatter_matrix( iris_data, dimensions=[\"sepal_length\", \"sepal_width\", \"petal_length\", \"petal_width\"], color=\"species\" ) # Show the scatter matrix plot scatter_matrix.show()"
   ]
  },
  {
   "cell_type": "markdown",
   "id": "4614b4e3-f2ad-4555-963f-cfbdc79931b2",
   "metadata": {},
   "source": [
    "Q5. What is Distplot? Using Plotly express, plot a distplot."
   ]
  },
  {
   "cell_type": "markdown",
   "id": "56a33ca2-c729-4b28-9908-2d73ce817b9d",
   "metadata": {},
   "source": [
    "Ans"
   ]
  },
  {
   "cell_type": "markdown",
   "id": "c2f82075-eb69-4210-a803-92e2bdb09c71",
   "metadata": {},
   "source": [
    "Distplot is a seaborn library function that is used to visualize a univariate distribution of observations. It combines a histogram with a kernel density estimate, allowing to visualize the distribution of a variable along with its density curve.\\"
   ]
  },
  {
   "cell_type": "code",
   "execution_count": 7,
   "id": "838378a5-16ec-46f5-9b33-9b35d343bd09",
   "metadata": {},
   "outputs": [],
   "source": [
    "# Load the tips dataset from Plotly tips_data = px.data.tips() # Create a histogram for total bill histogram = px.histogram(tips_data, x=\"total_bill\") # Show the histogram histogram.show()"
   ]
  }
 ],
 "metadata": {
  "kernelspec": {
   "display_name": "Python 3 (ipykernel)",
   "language": "python",
   "name": "python3"
  },
  "language_info": {
   "codemirror_mode": {
    "name": "ipython",
    "version": 3
   },
   "file_extension": ".py",
   "mimetype": "text/x-python",
   "name": "python",
   "nbconvert_exporter": "python",
   "pygments_lexer": "ipython3",
   "version": "3.10.8"
  }
 },
 "nbformat": 4,
 "nbformat_minor": 5
}
