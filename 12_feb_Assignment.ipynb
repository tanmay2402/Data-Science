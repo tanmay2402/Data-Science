{
 "cells": [
  {
   "cell_type": "markdown",
   "id": "1696779c-0966-4f5f-9f1e-15f1a0360f96",
   "metadata": {},
   "source": [
    "Q1. What is an Exception in python? Write the difference between Exceptions and Snytax errors."
   ]
  },
  {
   "cell_type": "markdown",
   "id": "c0017aba-e67f-4167-9128-d9286f4e55c2",
   "metadata": {},
   "source": [
    "Ans."
   ]
  },
  {
   "cell_type": "markdown",
   "id": "23eec9bc-0f31-49de-8d6d-80b81d76f858",
   "metadata": {},
   "source": [
    "An exception in Python is an event that occurs during the execution of a program that disrupts the normal flow of instructions. Exceptions are typically raised when an error occurs, such as division by zero, file not found, or invalid user input.\n",
    "\n",
    "The difference between exceptions and syntax errors is that syntax errors are errors in the syntax of the Python code, such as incorrect indentation, missing parentheses, or incorrect spelling of keywords. Syntax errors are detected by the Python interpreter when the code is first executed and prevent the code from being executed at all.\n",
    "\n",
    "Exceptions, on the other hand, are errors that occur during the execution of the code, and the code can continue to execute even after an exception has been raised. The code can handle the exception using try-except blocks, which allow the code to continue executing even if an exception has been raised. If an exception is not handled, the code will stop executing and the error message associated with the exception will be displayed."
   ]
  },
  {
   "cell_type": "markdown",
   "id": "2d2e9cc0-b2cf-46d8-8b80-38500b9da3c0",
   "metadata": {},
   "source": [
    "Q2. What happens when an exception is not handled? Explain with an example."
   ]
  },
  {
   "cell_type": "markdown",
   "id": "de832a1b-5962-4e87-a403-aeb5e0ea57ed",
   "metadata": {},
   "source": [
    "Ans."
   ]
  },
  {
   "cell_type": "markdown",
   "id": "837d081f-41fd-471b-8407-a433bbd69042",
   "metadata": {},
   "source": [
    "If an exception is not handled, the code will stop executing and Python will raise an unhandled exception error. The error message associated with the exception will be displayed, indicating the type of exception that was raised and the line of code where the exception occurred."
   ]
  },
  {
   "cell_type": "code",
   "execution_count": 1,
   "id": "3e8dffdf-55cf-40c8-9f70-21a085cee41e",
   "metadata": {},
   "outputs": [
    {
     "ename": "ZeroDivisionError",
     "evalue": "division by zero",
     "output_type": "error",
     "traceback": [
      "\u001b[0;31m---------------------------------------------------------------------------\u001b[0m",
      "\u001b[0;31mZeroDivisionError\u001b[0m                         Traceback (most recent call last)",
      "Cell \u001b[0;32mIn[1], line 5\u001b[0m\n\u001b[1;32m      2\u001b[0m \u001b[38;5;28;01mdef\u001b[39;00m \u001b[38;5;21mdivide\u001b[39m(a , b):\n\u001b[1;32m      3\u001b[0m     \u001b[38;5;28;01mreturn\u001b[39;00m a\u001b[38;5;241m/\u001b[39mb\n\u001b[0;32m----> 5\u001b[0m divide(\u001b[38;5;241;43m123\u001b[39;49m\u001b[38;5;241;43m/\u001b[39;49m\u001b[38;5;241;43m0\u001b[39;49m)\n",
      "\u001b[0;31mZeroDivisionError\u001b[0m: division by zero"
     ]
    }
   ],
   "source": [
    "#Example \n",
    "def divide(a , b):\n",
    "    return a/b\n",
    "\n",
    "divide(123/0)"
   ]
  },
  {
   "cell_type": "code",
   "execution_count": 2,
   "id": "afc604b3-b7f9-48aa-9fb0-454403207008",
   "metadata": {},
   "outputs": [
    {
     "name": "stdout",
     "output_type": "stream",
     "text": [
      "division by zero\n"
     ]
    }
   ],
   "source": [
    "#By handling the exception in try except block\n",
    "try :\n",
    "    def divide(a , b):\n",
    "        return a/b\n",
    "\n",
    "    divide(123/0)\n",
    "except ZeroDivisionError as e:\n",
    "    print(e)"
   ]
  },
  {
   "cell_type": "markdown",
   "id": "ddc7afb0-f42e-475d-9fff-ecdd32d0f32b",
   "metadata": {},
   "source": [
    "Q3. Which Python statements are used to catch and handle exceptions? Explain with an example."
   ]
  },
  {
   "cell_type": "markdown",
   "id": "0ac87801-84c0-49fc-850d-b9fd5b0a0b27",
   "metadata": {},
   "source": [
    "Ans."
   ]
  },
  {
   "cell_type": "markdown",
   "id": "9c35be98-a4ff-44e9-bf46-9de5ac026de6",
   "metadata": {},
   "source": [
    "In Python, exceptions can be caught and handled using the try and except statements. The try statement is used to define a block of code that is executed until an exception is raised. The except statement is used to define a block of code that will be executed if an exception is raised in the try block."
   ]
  },
  {
   "cell_type": "code",
   "execution_count": 4,
   "id": "9c532e2b-c4cf-4d88-adb2-2be3714d5ca9",
   "metadata": {},
   "outputs": [
    {
     "name": "stdin",
     "output_type": "stream",
     "text": [
      "Enter a number:  54\n",
      "Enter another number:  aGa\n"
     ]
    },
    {
     "name": "stdout",
     "output_type": "stream",
     "text": [
      "Invalid input. Only numbers are allowed.\n"
     ]
    }
   ],
   "source": [
    "'''\n",
    "\n",
    "In this example, the try block contains the code that might raise an exception (converting the user's input to integers and dividing the two numbers). \n",
    "If an exception is raised, the code will jump to the first except block that matches the type of exception that was raised.\n",
    "If a ZeroDivisionError is raised, the message \"Cannot divide by zero.\" will be printed.\n",
    "If a ValueError is raised, the message \"Invalid input. Only numbers are allowed.\" will be printed.\n",
    "If no exceptions are raised, the code in the else block will be executed and the result of the division will be printed.\n",
    "\n",
    "'''\n",
    "\n",
    "try:\n",
    "    a = int(input(\"Enter a number: \"))\n",
    "    b = int(input(\"Enter another number: \"))\n",
    "    result = a / b\n",
    "except ZeroDivisionError:\n",
    "    print(\"Cannot divide by zero.\")\n",
    "except ValueError:\n",
    "    print(\"Invalid input. Only numbers are allowed.\")\n",
    "else:\n",
    "    print(result)\n"
   ]
  },
  {
   "cell_type": "markdown",
   "id": "a498ae1e-31e6-438e-a3c6-b83cd5f7c3d1",
   "metadata": {},
   "source": [
    "Q4. Explain with an example: a. try and else b. finally c. raise"
   ]
  },
  {
   "cell_type": "markdown",
   "id": "f3fae41d-0f51-4557-8f0f-01227c0d83e4",
   "metadata": {},
   "source": [
    "Ans."
   ]
  },
  {
   "cell_type": "markdown",
   "id": "d4fa46a1-567a-46ae-a685-d413019f121e",
   "metadata": {},
   "source": [
    "a. try and else:\n",
    "\n",
    "The try and else statement in Python is used to handle exceptions. It is a way to run some code and check for errors in that code, and then to run a different piece of code if an error occurs."
   ]
  },
  {
   "cell_type": "code",
   "execution_count": 5,
   "id": "66c42c8f-7b60-4b90-94af-2b0bf784b769",
   "metadata": {},
   "outputs": [
    {
     "name": "stdout",
     "output_type": "stream",
     "text": [
      "division by zero\n"
     ]
    }
   ],
   "source": [
    "#Example \n",
    "try :\n",
    "    1000/0\n",
    "except ZeroDivisionError as e:\n",
    "    print(e)\n",
    "else :\n",
    "    print(\"It is divisible\")"
   ]
  },
  {
   "cell_type": "markdown",
   "id": "03ace0a7-8c5a-4c7f-9d9e-726ac9318a4c",
   "metadata": {},
   "source": [
    "b. finally\n",
    "\n",
    "The finally statement in Python is used to ensure that some code is executed regardless of whether an exception was raised or not.\n",
    "It is useful for cleaning up resources or closing files, even if an exception was raised."
   ]
  },
  {
   "cell_type": "code",
   "execution_count": 7,
   "id": "36107db7-88ed-41b0-bef4-7dacf283ac41",
   "metadata": {},
   "outputs": [
    {
     "name": "stdout",
     "output_type": "stream",
     "text": [
      "1.0\n",
      "Block is exceuted\n"
     ]
    }
   ],
   "source": [
    "#Example \n",
    "try :\n",
    "    a = 1000/1000\n",
    "    print(a)\n",
    "except ZeroDivisionError as e:\n",
    "    print(e)\n",
    "finally :\n",
    "    print(\"Block is exceuted\")"
   ]
  },
  {
   "cell_type": "markdown",
   "id": "037830e0-4326-481b-8701-d86f462db85b",
   "metadata": {},
   "source": [
    "c. Raise\n",
    "\n",
    "The raise statement in Python is used to raise an exception. \n",
    "This is useful when you want to stop the execution of the program and signal that an error has occurred.\n"
   ]
  },
  {
   "cell_type": "code",
   "execution_count": 8,
   "id": "991bd0b2-690e-4b76-b7b1-efa9c6588397",
   "metadata": {},
   "outputs": [
    {
     "name": "stdout",
     "output_type": "stream",
     "text": [
      "Error: Birth year cannot be negative.\n"
     ]
    }
   ],
   "source": [
    "#Example\n",
    "def calculate_age(birth_year):\n",
    "  if birth_year < 0:\n",
    "    raise ValueError(\"Birth year cannot be negative.\")\n",
    "  return 2023 - birth_year\n",
    "\n",
    "try:\n",
    "  age = calculate_age(-10)\n",
    "except ValueError as e:\n",
    "  print(\"Error:\", e)"
   ]
  },
  {
   "cell_type": "markdown",
   "id": "4548ae8a-7442-46de-91c7-ddbae9c329a5",
   "metadata": {},
   "source": [
    "Q5. What are Custom Exceptions in python? Why do we need Custom Exceptions? Explain with an example."
   ]
  },
  {
   "cell_type": "markdown",
   "id": "c7a595db-68ab-47a3-898e-5e49dd46bbf0",
   "metadata": {},
   "source": [
    "Ans."
   ]
  },
  {
   "cell_type": "markdown",
   "id": "e1d6485b-1700-4d88-8761-c1faae834068",
   "metadata": {},
   "source": [
    "Custom exceptions in Python are user-defined exceptions. They are used when the built-in exceptions provided by Python are not sufficient to handle specific error conditions in a program. Custom exceptions allow developers to raise exceptions with custom error messages and to catch and handle these exceptions in a more meaningful way.\n",
    "\n",
    "The need for custom exceptions arises when the standard exceptions provided by Python are not specific enough for a particular use case. For example, you may want to raise a specific exception when a user enters an invalid username or password, or when a user tries to access a restricted resource. Custom exceptions can be raised in these situations to provide more meaningful error messages and to handle the errors in a specific way."
   ]
  },
  {
   "cell_type": "code",
   "execution_count": 9,
   "id": "5fdc46d7-95d2-4e1f-b8ac-4e7c7dea25bd",
   "metadata": {},
   "outputs": [
    {
     "name": "stdout",
     "output_type": "stream",
     "text": [
      "Error: Username must be at least 8 characters long.\n"
     ]
    }
   ],
   "source": [
    "# for example\n",
    "\n",
    "class InvalidUsernameException(Exception):\n",
    "  pass\n",
    "\n",
    "def validate_username(username):\n",
    "  if len(username) < 8:\n",
    "    raise InvalidUsernameException(\"Username must be at least 8 characters long.\")\n",
    "\n",
    "try:\n",
    "  validate_username(\"short\")\n",
    "except InvalidUsernameException as e:\n",
    "  print(\"Error:\", e)"
   ]
  },
  {
   "cell_type": "markdown",
   "id": "8b0bd4d6-08fb-4b9e-bb85-15170d22937d",
   "metadata": {},
   "source": [
    "Q6. Create a custom exception class. Use this class to handle an exception."
   ]
  },
  {
   "cell_type": "markdown",
   "id": "7cd3afb6-8c91-4d6a-bcdf-75d7b3d43431",
   "metadata": {},
   "source": [
    "Ans."
   ]
  },
  {
   "cell_type": "code",
   "execution_count": 10,
   "id": "ed3aca77-4b5c-4047-bb8c-18ef2ec2f087",
   "metadata": {},
   "outputs": [
    {
     "name": "stdout",
     "output_type": "stream",
     "text": [
      "Error: Input value cannot be negative.\n"
     ]
    }
   ],
   "source": [
    "class InvalidInputException(Exception):\n",
    "  pass\n",
    "\n",
    "def check_input(input_value):\n",
    "  if input_value < 0:\n",
    "    raise InvalidInputException(\"Input value cannot be negative.\")\n",
    "\n",
    "try:\n",
    "  check_input(-10)\n",
    "except InvalidInputException as e:\n",
    "  print(\"Error:\", e)"
   ]
  }
 ],
 "metadata": {
  "kernelspec": {
   "display_name": "Python 3 (ipykernel)",
   "language": "python",
   "name": "python3"
  },
  "language_info": {
   "codemirror_mode": {
    "name": "ipython",
    "version": 3
   },
   "file_extension": ".py",
   "mimetype": "text/x-python",
   "name": "python",
   "nbconvert_exporter": "python",
   "pygments_lexer": "ipython3",
   "version": "3.10.8"
  }
 },
 "nbformat": 4,
 "nbformat_minor": 5
}
