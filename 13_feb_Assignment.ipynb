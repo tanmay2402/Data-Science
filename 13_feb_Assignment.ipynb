{
 "cells": [
  {
   "cell_type": "markdown",
   "id": "c0bc7f18-599c-49a4-aa8f-897aaed95b47",
   "metadata": {},
   "source": [
    "Q1. Explain why we have to use the Exception class while creating a Custom Exception."
   ]
  },
  {
   "cell_type": "markdown",
   "id": "4d647cfb-0328-4c35-b775-d6620a5cc794",
   "metadata": {},
   "source": [
    "Ans."
   ]
  },
  {
   "cell_type": "markdown",
   "id": "4e49fb41-cf22-422f-ba1b-ad2785cd51b5",
   "metadata": {},
   "source": [
    "The Exception class is used as the base class for custom exceptions because it is the base class for all built-in exceptions in Python. By inheriting from the Exception class, custom exceptions become part of the standard exception hierarchy in Python and can be caught and handled using the same mechanism as built-in exceptions. This allows custom exceptions to be integrated seamlessly into existing exception handling mechanisms in a Python program.\n",
    "\n",
    "Inheriting from the Exception class also allows custom exceptions to be easily subclassed to create more specific exceptions. For example, you can create a custom exception class for a specific type of error in your application and then create subclasses for specific error cases. This makes it easy to create a hierarchical structure of exceptions that can be used to handle different types of errors in a structured and meaningful way."
   ]
  },
  {
   "cell_type": "markdown",
   "id": "78cb69ba-f7a4-4701-8e59-9f382ed0f7cd",
   "metadata": {},
   "source": [
    "Q2. Write a python program to print Python Exception Hierarchy."
   ]
  },
  {
   "cell_type": "markdown",
   "id": "2a7364da-7ad4-43c8-b868-b7f873205cd3",
   "metadata": {},
   "source": [
    "Ans."
   ]
  },
  {
   "cell_type": "code",
   "execution_count": 1,
   "id": "38afb9e3-6c84-4477-94ae-8f7f3667ab70",
   "metadata": {},
   "outputs": [
    {
     "name": "stdout",
     "output_type": "stream",
     "text": [
      "Exception\n",
      "\tBaseException\n",
      "\t\tobject\n"
     ]
    }
   ],
   "source": [
    "def print_exception_hierarchy(exceptions, level=0):\n",
    "    # Print the class name for each exception\n",
    "    for exception in exceptions:\n",
    "        print('\\t' * level + exception.__name__)\n",
    "        # Recursively print the exception hierarchy for each parent class\n",
    "        parents = exception.__bases__\n",
    "        if parents:\n",
    "            print_exception_hierarchy(parents, level + 1)\n",
    "\n",
    "# Call the print_exception_hierarchy function with the base Exception class\n",
    "print_exception_hierarchy([Exception])\n"
   ]
  },
  {
   "cell_type": "markdown",
   "id": "c4a896d2-9e29-4a56-8be2-0ce4f4945bf5",
   "metadata": {},
   "source": [
    "Q3. What errors are defined in the ArithmeticError class? Explain any two with an example."
   ]
  },
  {
   "cell_type": "markdown",
   "id": "a045ffec-3771-4350-8b16-e4ba49d0b44b",
   "metadata": {},
   "source": [
    "Ans."
   ]
  },
  {
   "cell_type": "markdown",
   "id": "5b98034a-14b5-42f3-a136-59bdb2b59568",
   "metadata": {},
   "source": [
    "The ArithmeticError class in Python is a base class for all errors that occur during arithmetic calculations.\n",
    "\n",
    "Some of the errors that are defined in the ArithmeticError class are:\n",
    "\n",
    "1.ZeroDivisionError: This error occurs when you try to divide a number by zero. Forexample, x = 10/0 will result in ZeroDivisionError.\n",
    "\n",
    "2.OverflowError: This error occurs when the result of an arithmetic calculation is too large to be represented. For example, x = 999999999999999999999999999999999999999999999999999999999999999999999999999999999 + 1 will result in OverflowError."
   ]
  },
  {
   "cell_type": "code",
   "execution_count": 2,
   "id": "a4af0f24-7b99-432d-8b94-b38e473e625c",
   "metadata": {},
   "outputs": [
    {
     "name": "stdout",
     "output_type": "stream",
     "text": [
      "division by zero\n"
     ]
    }
   ],
   "source": [
    "#Example of zero division error\n",
    "try :\n",
    "    1292/0\n",
    "except ZeroDivisionError as e:\n",
    "    print(e)\n",
    "    \n",
    "#Example of OverflowError\n",
    "try : \n",
    "    x = 999999999999999999999999999999999999999999999999999999999999999999999999999999999 + 1\n",
    "except OverflowError as e:\n",
    "    print(e)"
   ]
  },
  {
   "cell_type": "markdown",
   "id": "730088ef-6fec-4c1f-91ef-7f8a478626be",
   "metadata": {},
   "source": [
    "Q4. Why LookupError class is used? Explain with an example KeyError and IndexError."
   ]
  },
  {
   "cell_type": "markdown",
   "id": "bc65c98c-663e-4527-a16e-e204bfe0e6d8",
   "metadata": {},
   "source": [
    "Ans."
   ]
  },
  {
   "cell_type": "markdown",
   "id": "ec2ef094-9d0a-4a2c-b716-d8e938eef39d",
   "metadata": {},
   "source": [
    "The LookupError class is a base class for indexing and key lookup errors. It is used to handle errors that occur while trying to access an item from an iterable such as a list, dictionary or a tuple."
   ]
  },
  {
   "cell_type": "code",
   "execution_count": 3,
   "id": "9ebbd4a4-de65-495f-969b-02910c143239",
   "metadata": {},
   "outputs": [
    {
     "name": "stdout",
     "output_type": "stream",
     "text": [
      "'key3'\n"
     ]
    }
   ],
   "source": [
    "#example of keyerror\n",
    "try :\n",
    "    d = {\"key1\" : \"hello\" , \"key2\" : \"world\" }\n",
    "    print(d[\"key3\"])\n",
    "except KeyError as e:\n",
    "    print(e)"
   ]
  },
  {
   "cell_type": "code",
   "execution_count": 4,
   "id": "9113f223-653c-4804-bc32-56f9a7da6913",
   "metadata": {},
   "outputs": [
    {
     "name": "stdout",
     "output_type": "stream",
     "text": [
      "list index out of range\n"
     ]
    }
   ],
   "source": [
    "#Example of index error\n",
    "try :\n",
    "    l = [12,3,4,5,6,7]\n",
    "    print(l[12292])\n",
    "except IndexError as e:\n",
    "    print(e)"
   ]
  },
  {
   "cell_type": "markdown",
   "id": "c19f5ede-b3d6-4e5e-bb8a-7707feaf0201",
   "metadata": {},
   "source": [
    "Q5. Explain ImportError. What is ModuleNotFoundError?"
   ]
  },
  {
   "cell_type": "markdown",
   "id": "341934bd-3764-4135-8fa9-7b807c75c9c1",
   "metadata": {},
   "source": [
    "Ans."
   ]
  },
  {
   "cell_type": "markdown",
   "id": "34610485-5f0c-409d-bb74-3027aca11cb7",
   "metadata": {},
   "source": [
    "ImportError is an exception that is raised when an imported module is not found or when a specific name cannot be found in the imported module.\n",
    "\n",
    "In Python 3.6 and later, a new ModuleNotFoundError exception is introduced that is a subclass of ImportError. It is raised when a specified module is not found.\n",
    "\n",
    "For example, suppose we have a module named my_module that we want to import in our code. If the module is not found, we will get an ImportError. Similarly, if we try to import a name that does not exist in the module, we will again get an ImportError.\n",
    "\n"
   ]
  },
  {
   "cell_type": "code",
   "execution_count": 8,
   "id": "98f8af8a-9099-46f5-8111-cd526774f695",
   "metadata": {},
   "outputs": [
    {
     "name": "stdout",
     "output_type": "stream",
     "text": [
      "cannot import name 'algebra' from 'math' (/opt/conda/lib/python3.10/lib-dynload/math.cpython-310-x86_64-linux-gnu.so)\n"
     ]
    }
   ],
   "source": [
    "#example of import error\n",
    "try :\n",
    "    from math import algebra #trying to import a non exist module\n",
    "except ImportError as e:\n",
    "    print(e)"
   ]
  },
  {
   "cell_type": "code",
   "execution_count": 9,
   "id": "b1d31654-ac9a-4f8f-b4e2-e404902ee2f3",
   "metadata": {},
   "outputs": [
    {
     "name": "stdout",
     "output_type": "stream",
     "text": [
      "No module named 'rahul'\n"
     ]
    }
   ],
   "source": [
    "#Example of modulenotfound error \n",
    "try :\n",
    "    import rahul #trying to import a non existing module\n",
    "except ModuleNotFoundError as e:\n",
    "    print(e)"
   ]
  },
  {
   "cell_type": "markdown",
   "id": "10513c40-24db-4efc-8db4-188e2dc0dbd2",
   "metadata": {},
   "source": [
    "Q6. List down some best practices for exception handling in python."
   ]
  },
  {
   "cell_type": "markdown",
   "id": "a05015c9-acbb-44e7-b919-36bc61880ccd",
   "metadata": {},
   "source": [
    "Ans."
   ]
  },
  {
   "cell_type": "markdown",
   "id": "b8fd38e1-52a2-436d-924a-6a47e463e281",
   "metadata": {},
   "source": [
    "Here are some best practices for exception handling in Python:\n",
    "\n",
    "1.Use specific exception types: Catching specific exceptions makes code more readable, and helps in fixing the error quickly.\n",
    "\n",
    "2.Avoid catching general exceptions: Avoid catching general exceptions like 'Exception', 'BaseException', etc. as they catch everything, including the ones you don't want to catch.\n",
    "\n",
    "3.Use try-except-else-finally block: Use the try-except-else-finally block for more robust exception handling. The try-except block handles the exception, the else block handles the normal flow, and the finally block releases any acquired resources.\n",
    "\n",
    "4.Handle exceptions as close to the source as possible: This makes it easier to debug and understand what's going on.\n",
    "\n",
    "5.Use logging: Use the logging module to log the exceptions, along with the context information.\n",
    "\n",
    "6.Don't ignore exceptions: Ignoring exceptions is a bad practice. It hides the problems, making it difficult to diagnose and fix the root cause.\n",
    "\n",
    "7.Keep exception messages simple and clear: Keep the exception messages simple and clear, so that other developers can quickly understand the problem.\n",
    "\n",
    "8.Raise exceptions when needed: Raise exceptions only when needed. Don't raise exceptions for normal flow control."
   ]
  }
 ],
 "metadata": {
  "kernelspec": {
   "display_name": "Python 3 (ipykernel)",
   "language": "python",
   "name": "python3"
  },
  "language_info": {
   "codemirror_mode": {
    "name": "ipython",
    "version": 3
   },
   "file_extension": ".py",
   "mimetype": "text/x-python",
   "name": "python",
   "nbconvert_exporter": "python",
   "pygments_lexer": "ipython3",
   "version": "3.10.8"
  }
 },
 "nbformat": 4,
 "nbformat_minor": 5
}
