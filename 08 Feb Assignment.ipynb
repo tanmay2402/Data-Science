{
 "cells": [
  {
   "cell_type": "markdown",
   "id": "5691e60f-1c74-4740-b102-faba38dd7a93",
   "metadata": {},
   "source": [
    "Q1. What is Abstraction in OOps? Explain with an example."
   ]
  },
  {
   "cell_type": "markdown",
   "id": "ba6952a3-9c15-4169-901c-b57c90135921",
   "metadata": {},
   "source": [
    "Ans."
   ]
  },
  {
   "cell_type": "markdown",
   "id": "322914b5-ca39-4fba-b199-66f881bc6bfe",
   "metadata": {},
   "source": [
    "Abstraction in object oriented programming(OOP) refer to the practice of hiding the implementation details of an object and exposing only the essential features that are necessary for users to interact with the objects."
   ]
  },
  {
   "cell_type": "code",
   "execution_count": 3,
   "id": "6fa2cb01-75e6-42aa-9f7d-bf35eeb87e40",
   "metadata": {},
   "outputs": [
    {
     "name": "stdout",
     "output_type": "stream",
     "text": [
      "Tata\n",
      "S1\n"
     ]
    }
   ],
   "source": [
    "#EXAMPLE\n",
    "class Car : \n",
    "    def __init__(self,make, model):\n",
    "        self.__make = make\n",
    "        self.__model = model\n",
    "    def get_make(self):\n",
    "        return self.__make\n",
    "    def get_model(self):\n",
    "        return self.__model\n",
    "car_obj = Car(\"Tata\", \"S1\")\n",
    "print(car_obj.get_make())\n",
    "print(car_obj.get_model())"
   ]
  },
  {
   "cell_type": "markdown",
   "id": "f7e8b9fc-6d9a-4b2d-9b3e-f3849ccfbe92",
   "metadata": {},
   "source": [
    "Q2. Differentiate between Abstraction and Encapsulation. Explain with an example."
   ]
  },
  {
   "cell_type": "markdown",
   "id": "bdd5f562-f4d6-4b88-b116-61c588898851",
   "metadata": {},
   "source": [
    "Ans."
   ]
  },
  {
   "cell_type": "markdown",
   "id": "4e023640-4432-409f-bbfe-764520b4dd7f",
   "metadata": {},
   "source": [
    "Abstraction in object oriented programming(OOP) refer to the practice of hiding the implementation details of an object and exposing only the essential features that are necessary for users to interact with the objects."
   ]
  },
  {
   "cell_type": "markdown",
   "id": "b9d6d49b-957d-4a07-8076-80479b1ff44f",
   "metadata": {},
   "source": [
    "Encapsulation refers to the bundling of data and behavior within an object. It helps to protect the data of an object from an outside interference and misuse by enforcing strict control over the object's access and manipulation."
   ]
  },
  {
   "cell_type": "code",
   "execution_count": 4,
   "id": "72355b0d-a7b4-419e-b1be-4249859c410f",
   "metadata": {},
   "outputs": [
    {
     "name": "stdout",
     "output_type": "stream",
     "text": [
      "Tata\n",
      "S1\n"
     ]
    }
   ],
   "source": [
    "#EXAMPLE\n",
    "class Car : \n",
    "    def __init__(self,make, model):\n",
    "        self.__make = make\n",
    "        self.__model = model\n",
    "    def get_make(self):\n",
    "        return self.__make\n",
    "    def get_model(self):\n",
    "        return self.__model\n",
    "car_obj = Car(\"Tata\", \"S1\")\n",
    "print(car_obj.get_make())\n",
    "print(car_obj.get_model())"
   ]
  },
  {
   "cell_type": "markdown",
   "id": "93b5f629-5e66-42eb-808e-84b90c3a520b",
   "metadata": {},
   "source": [
    "Q3. What is abc module in python? Why is it used?"
   ]
  },
  {
   "cell_type": "markdown",
   "id": "66393680-152c-43cf-a924-8b7cdb04a06c",
   "metadata": {},
   "source": [
    "Ans."
   ]
  },
  {
   "cell_type": "markdown",
   "id": "0d1ee341-d31b-431b-b7f8-24f615f21e21",
   "metadata": {},
   "source": [
    "ABC stands for abstact base class. It is part of the starndard library and provides support for defining abstract base classes.Abstract base classes are used as a blueprint for creating objects in a subclass and are used to define a common interface for a set of related objects."
   ]
  },
  {
   "cell_type": "markdown",
   "id": "37420ff2-a9fd-4957-abe5-dcfdc2fa4a88",
   "metadata": {},
   "source": [
    "It is used  to define and register abstract base classes and to check if a class is a subclass of an abstract base class."
   ]
  },
  {
   "cell_type": "markdown",
   "id": "ae550c5f-6de2-4180-a1fb-55dc8da28a61",
   "metadata": {},
   "source": [
    "Q4. How can we achieve data abstraction?"
   ]
  },
  {
   "cell_type": "markdown",
   "id": "2dcde6a7-36e1-4e12-8a6b-cdf79b8e7cab",
   "metadata": {},
   "source": [
    "Ans."
   ]
  },
  {
   "cell_type": "markdown",
   "id": "9f52b2d0-115e-4c6b-b03e-70b8026c7455",
   "metadata": {},
   "source": [
    "Data abstraction can be achieved by the use of classes and object. A class defines the blueprint for an object and encapsulates data and behaviors in a single entity. By encapsulating data and behaviors , classes provide a layer of abstraction between the implementation details and the outside world. "
   ]
  },
  {
   "cell_type": "markdown",
   "id": "39b203ec-ff77-47e7-a093-900a24e9003b",
   "metadata": {},
   "source": [
    "Q5. Can we create an instance of an abstract class? Explain your answer."
   ]
  },
  {
   "cell_type": "markdown",
   "id": "24d8e362-eda0-40da-baee-1172ba73fa97",
   "metadata": {},
   "source": [
    "Ans."
   ]
  },
  {
   "cell_type": "markdown",
   "id": "b8f7e9cf-d48b-4fa2-9e0c-2def31ef075d",
   "metadata": {},
   "source": [
    "Abstract classes cannot be instantiated, but they can be subclassed. When an abstract class is subclassed, the subclass usually provides implementations for all of the abstract methods in its parent class."
   ]
  }
 ],
 "metadata": {
  "kernelspec": {
   "display_name": "Python 3 (ipykernel)",
   "language": "python",
   "name": "python3"
  },
  "language_info": {
   "codemirror_mode": {
    "name": "ipython",
    "version": 3
   },
   "file_extension": ".py",
   "mimetype": "text/x-python",
   "name": "python",
   "nbconvert_exporter": "python",
   "pygments_lexer": "ipython3",
   "version": "3.10.8"
  }
 },
 "nbformat": 4,
 "nbformat_minor": 5
}
