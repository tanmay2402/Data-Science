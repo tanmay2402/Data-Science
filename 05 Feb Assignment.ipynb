{
 "cells": [
  {
   "cell_type": "markdown",
   "id": "e78e2dd0-8df9-4162-b3fb-0e1f1a9bf68c",
   "metadata": {},
   "source": [
    "Q1. Explain Class and Object with respect to Object-Oriented Programming. Give a suitable example."
   ]
  },
  {
   "cell_type": "markdown",
   "id": "0195a2f2-edd5-411c-a282-e934a298a2d5",
   "metadata": {},
   "source": [
    "Ans."
   ]
  },
  {
   "cell_type": "markdown",
   "id": "06cde10e-0dfa-4a4b-b20d-7ed708f6ab6c",
   "metadata": {},
   "source": [
    "A class is a blueprint or a template for creating objects.It defines a set of attributes and methods that can be used by the objects that are created in the class."
   ]
  },
  {
   "cell_type": "markdown",
   "id": "7fda38a6-8480-44d5-aef3-24330d1e7be8",
   "metadata": {},
   "source": [
    "An object is an instance of a class.It is a real world entity that has attributes that are represented by instance variables and behaviors that are represented by methods.   "
   ]
  },
  {
   "cell_type": "code",
   "execution_count": 4,
   "id": "1846c45d-5018-435c-b247-334899bddf63",
   "metadata": {},
   "outputs": [
    {
     "data": {
      "text/plain": [
       "('The name, age and number of the student is : ', 'Tanmay', 20, 246257618)"
      ]
     },
     "execution_count": 4,
     "metadata": {},
     "output_type": "execute_result"
    }
   ],
   "source": [
    "#EXAMPLE\n",
    "class student:\n",
    "    def __init__(self, name, age , number):\n",
    "        self.name = name \n",
    "        self.age = age\n",
    "        self.number = number\n",
    "    def info(self):\n",
    "        return \"The name, age and number of the student is : \", self.name , self.age , self.number\n",
    "student_obj = student(\"Tanmay\",20,246257618)\n",
    "student_obj.info()"
   ]
  },
  {
   "cell_type": "markdown",
   "id": "ace3b1c9-98bc-4f2b-a610-9474356db482",
   "metadata": {},
   "source": [
    "Q2. Name the four pillars of OOPs."
   ]
  },
  {
   "cell_type": "markdown",
   "id": "cd005080-7b54-4dac-b7e5-f06859ffd6fc",
   "metadata": {},
   "source": [
    "Ans."
   ]
  },
  {
   "cell_type": "markdown",
   "id": "41d3787c-7569-41b0-9cd8-b6a348bdb616",
   "metadata": {},
   "source": [
    "The four pillars of oops are : "
   ]
  },
  {
   "cell_type": "markdown",
   "id": "5c2a4e06-7128-4560-9c8d-aa7f384bc4f9",
   "metadata": {},
   "source": [
    "1.Abstraction : It is process of hiding implementation details and exposing the necessary information to user."
   ]
  },
  {
   "cell_type": "markdown",
   "id": "a4487023-b8a1-4768-89ee-7c4f1f97b7dc",
   "metadata": {},
   "source": [
    "2.Encapsulation : It is the process of wrapping data and code together as a single unit to protect the data from the real world."
   ]
  },
  {
   "cell_type": "markdown",
   "id": "08260cae-5adb-4cfc-b0a9-dbf35352092b",
   "metadata": {},
   "source": [
    "3.Inheritance : It is the mechanism of creating a new class based on an existing class where all the methods or functions can be accessed by the new class."
   ]
  },
  {
   "cell_type": "markdown",
   "id": "22e24541-2ebb-4d03-a03e-e67b9dd104d2",
   "metadata": {},
   "source": [
    "4.Polymorphism : It is the ability of an object to take the multiple forms."
   ]
  },
  {
   "cell_type": "markdown",
   "id": "8c0a7143-562c-4895-a926-9f33669ad9cc",
   "metadata": {},
   "source": [
    "Q3. Explain why the __init__() function is used. Give a suitable example."
   ]
  },
  {
   "cell_type": "markdown",
   "id": "f41e047c-f0db-494b-a97c-79248c3fb4a0",
   "metadata": {},
   "source": [
    "Ans."
   ]
  },
  {
   "cell_type": "markdown",
   "id": "268f8258-8569-465a-8cf6-1a1101540922",
   "metadata": {},
   "source": [
    "init() function is used because it allows us to pass initial values to the object when it is created, making it easier to set up the object with the required state."
   ]
  },
  {
   "cell_type": "code",
   "execution_count": 21,
   "id": "46899a8f-572f-4ecc-b9c9-4c2788f3d695",
   "metadata": {},
   "outputs": [
    {
     "name": "stdout",
     "output_type": "stream",
     "text": [
      "500\n",
      "345\n",
      "3\n"
     ]
    }
   ],
   "source": [
    "#EXAMPLE\n",
    "class student:\n",
    "    def __init__(self, male, female, child):\n",
    "        self.male = male\n",
    "        self.female = female \n",
    "        self.child = child\n",
    "people_obj = people(500,345,3)\n",
    "print(people_obj.male)\n",
    "print(people_obj.female)\n",
    "print(people_obj.child)"
   ]
  },
  {
   "cell_type": "markdown",
   "id": "1f4ed148-8ef3-4718-bc7e-2b4f85627d5d",
   "metadata": {},
   "source": [
    "Q4. Why self is used in OOPs?"
   ]
  },
  {
   "cell_type": "markdown",
   "id": "78b27e27-81c5-4600-bec6-a770ad7e57e0",
   "metadata": {},
   "source": [
    "Ans."
   ]
  },
  {
   "cell_type": "markdown",
   "id": "e7e4a6e4-c23b-4d36-9848-e1008c6e9101",
   "metadata": {},
   "source": [
    "In object oriented programming(OOP), self is used to refer to the current instance of a class. It is a reference to the instance on which a method is being invoked and is used to access the attributes and the methods of the class. The use of self allow each object to have its own copy of the instance variables and ensures that the method is operating on the correct instance of the class."
   ]
  },
  {
   "cell_type": "markdown",
   "id": "6e35cbc4-2793-47f8-9c1b-1b8a01f47eb0",
   "metadata": {},
   "source": [
    "Q5. What is inheritance? Give an example for each type of inheritance."
   ]
  },
  {
   "cell_type": "markdown",
   "id": "9233311f-085d-4dff-9fc0-98316bf129e6",
   "metadata": {},
   "source": [
    "Ans."
   ]
  },
  {
   "cell_type": "markdown",
   "id": "b8d5e5bf-baa3-418c-b622-120302d6677f",
   "metadata": {},
   "source": [
    "Inheritance is the mechanism where a new class is created by inheriting properties and behaviors from an existing class known as the base class or parent class."
   ]
  },
  {
   "cell_type": "markdown",
   "id": "ae7d69cc-6f02-40dd-955a-6b986feca118",
   "metadata": {},
   "source": [
    "EXAMPLE :"
   ]
  },
  {
   "cell_type": "markdown",
   "id": "5807ae40-5d8e-4f3a-aa05-acc913f065eb",
   "metadata": {},
   "source": [
    "1.Single Inheritance : "
   ]
  },
  {
   "cell_type": "code",
   "execution_count": 29,
   "id": "a295c46b-5543-4630-bd4b-e7e5d9361619",
   "metadata": {},
   "outputs": [
    {
     "data": {
      "text/plain": [
       "'It has four wheels'"
      ]
     },
     "execution_count": 29,
     "metadata": {},
     "output_type": "execute_result"
    }
   ],
   "source": [
    "class car :\n",
    "    def wheels_car(self):\n",
    "        return \"It has four wheels\"\n",
    "class bike(car):\n",
    "    pass\n",
    "bike_obj = bike()\n",
    "bike_obj.wheels_car()"
   ]
  },
  {
   "cell_type": "markdown",
   "id": "52a79aed-28ce-41ea-8899-2012251250b8",
   "metadata": {},
   "source": [
    "2.Mulitlevel Inheritance :"
   ]
  },
  {
   "cell_type": "code",
   "execution_count": 33,
   "id": "6f6e300d-3a80-4ab6-bf2c-7e930b9591ed",
   "metadata": {},
   "outputs": [
    {
     "name": "stdout",
     "output_type": "stream",
     "text": [
      "It has four wheels\n",
      "It has two wheels\n",
      "It has 6 wheels\n"
     ]
    }
   ],
   "source": [
    "class car :\n",
    "    def wheels_car(self):\n",
    "        return \"It has four wheels\"\n",
    "class bike(car):\n",
    "    def wheels_bike(self):\n",
    "        return \"It has two wheels\"\n",
    "class bus(bike):\n",
    "    def wheels_bus(self):\n",
    "        return \"It has 6 wheels\"\n",
    "bus_obj = bus()\n",
    "print(bus_obj.wheels_car())\n",
    "print(bus_obj.wheels_bike())\n",
    "print(bus_obj.wheels_bus())"
   ]
  },
  {
   "cell_type": "markdown",
   "id": "196756d6-a091-4062-8041-b0c761b84d63",
   "metadata": {},
   "source": [
    "3. Multiple inheritance: "
   ]
  },
  {
   "cell_type": "code",
   "execution_count": 35,
   "id": "e4f9b624-ec7e-4fe6-a640-34fe0d2f2fc1",
   "metadata": {},
   "outputs": [
    {
     "name": "stdout",
     "output_type": "stream",
     "text": [
      "It has four wheels\n",
      "It has two wheels\n",
      "It has 6 wheels\n"
     ]
    }
   ],
   "source": [
    "class car :\n",
    "    def wheels_car(self):\n",
    "        return \"It has four wheels\"\n",
    "class bike:\n",
    "    def wheels_bike(self):\n",
    "        return \"It has two wheels\"\n",
    "class bus(car, bike):\n",
    "    def wheels_bus(self):\n",
    "        return \"It has 6 wheels\"\n",
    "bus_obj = bus()\n",
    "print(bus_obj.wheels_car())\n",
    "print(bus_obj.wheels_bike())\n",
    "print(bus_obj.wheels_bus())"
   ]
  },
  {
   "cell_type": "code",
   "execution_count": null,
   "id": "7c4c735b-277f-4b9b-b636-057fb2aaa904",
   "metadata": {},
   "outputs": [],
   "source": []
  }
 ],
 "metadata": {
  "kernelspec": {
   "display_name": "Python 3 (ipykernel)",
   "language": "python",
   "name": "python3"
  },
  "language_info": {
   "codemirror_mode": {
    "name": "ipython",
    "version": 3
   },
   "file_extension": ".py",
   "mimetype": "text/x-python",
   "name": "python",
   "nbconvert_exporter": "python",
   "pygments_lexer": "ipython3",
   "version": "3.10.8"
  }
 },
 "nbformat": 4,
 "nbformat_minor": 5
}
