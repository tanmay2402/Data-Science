{
 "cells": [
  {
   "cell_type": "markdown",
   "id": "1873031c-9e6c-42c8-9068-02de7e37b74b",
   "metadata": {},
   "source": [
    "Q1. What is Web Scraping? Why is it Used?Give three areas where Web Scraping is used to get data."
   ]
  },
  {
   "cell_type": "markdown",
   "id": "076cb3b0-e56b-4e79-a421-e9ce98cffe7b",
   "metadata": {},
   "source": [
    "Ans."
   ]
  },
  {
   "cell_type": "markdown",
   "id": "f2642a9d-3618-4647-9f49-d49e974e0491",
   "metadata": {},
   "source": [
    "Web scraping is the process of using bots to extract content and data from a website.\n",
    "\n",
    "Some of the main use cases of web scraping include price monitoring, price intelligence, news monitoring, lead generation, and market research among many others. In general, it is used by people and businesses who want to make use of publicly available web data to generate valuable insights and make smarter decisions.\n",
    "\n",
    "It's one of the most efficient ways to get data from the web, and in some cases to channel that data to another website. Popular uses of data scraping include: Research for web content/business intelligence. Pricing for travel booker sites/price comparison sites."
   ]
  },
  {
   "cell_type": "markdown",
   "id": "0a243e7d-9ca0-4439-902e-31111bbca8e2",
   "metadata": {},
   "source": [
    "Q2. What are the different methods used for Web Scraping?"
   ]
  },
  {
   "cell_type": "markdown",
   "id": "39bfea07-bf08-4510-bb86-6b5d1f9d1792",
   "metadata": {},
   "source": [
    "Ans"
   ]
  },
  {
   "cell_type": "markdown",
   "id": "5df179c0-0de9-48a4-89ae-e1a586ae8e27",
   "metadata": {},
   "source": [
    "The different methods used for Web Scraping are :\n",
    "Text pattern matching,\n",
    "HTTP programming,\n",
    "DOM Parcing,\n",
    "Vertical Aggregation."
   ]
  },
  {
   "cell_type": "markdown",
   "id": "177bb10c-c944-49d0-80b1-c979ab31b17e",
   "metadata": {},
   "source": [
    "Q3. What is Beautiful Soup? Why is it used?"
   ]
  },
  {
   "cell_type": "markdown",
   "id": "de0f6ce6-22ad-4516-9181-a3a9a5c9fcbd",
   "metadata": {},
   "source": [
    "Ans"
   ]
  },
  {
   "cell_type": "markdown",
   "id": "4bc20a6b-7b26-4316-bdca-37fcb9be3c14",
   "metadata": {},
   "source": [
    "Beautiful Soup is a Python package for parsing HTML and XML documents, including those with malformed markup. It creates a parse tree for documents that can be used to extract data from HTML, which is useful for web scraping."
   ]
  },
  {
   "cell_type": "markdown",
   "id": "de3acd52-011c-4729-92c5-af851112ab9b",
   "metadata": {},
   "source": [
    "Q4. Why is flask used in this Web Scraping project?"
   ]
  },
  {
   "cell_type": "markdown",
   "id": "e69ed866-5430-40a2-bb4a-cc5c078bbbf0",
   "metadata": {},
   "source": [
    "Ans"
   ]
  },
  {
   "cell_type": "markdown",
   "id": "d4efb483-5c79-4a62-81ea-13a30be7bc87",
   "metadata": {},
   "source": [
    "Flask is a lightweight framework to build websites. We'll use this to parse our collected data and display it as HTML in a new HTML file. The requests module allows us to send http requests to the website we want to scrape."
   ]
  },
  {
   "cell_type": "markdown",
   "id": "550957a6-a9c7-4ff9-8a06-1781e3da3b2f",
   "metadata": {},
   "source": [
    "Q5. Write the names of AWS services used in this project. Also, explain the use of each service."
   ]
  },
  {
   "cell_type": "markdown",
   "id": "e6f9a99a-1c60-4dd9-ab63-75d76e2a641d",
   "metadata": {},
   "source": [
    "Ans"
   ]
  },
  {
   "cell_type": "markdown",
   "id": "545f1483-a445-4e3a-b909-c72768bc71bd",
   "metadata": {},
   "source": [
    "Code pipeline and AWS Elastic Beanstalk is the Aws services used in this project of Web scrapping.\n",
    "\n",
    "Code Pipeline:\n",
    "\n",
    "        i.This service is used to connect github repo to beanstack environment.\n",
    "       ii.CodePipeline automates the build, test, and deploy phases of your release process every time there\n",
    "         is a code change, based on the release model you define.\n",
    "\n",
    "\n",
    "AWS Elastic Beanstalk:\n",
    "\n",
    "        Elastic Beanstalk provides a fully managed platform that allows developers to quickly deploy applications built with popular web frameworks such as Node.js, Java, Python, Ruby, PHP, and Go. It takes care of the underlying infrastructure, including provisioning servers, configuring load balancing and auto-scaling, and monitoring application health.\n",
    "\n",
    "        Elastic Beanstalk automatically handles deployment details such as capacity provisioning, load balancing, scaling, and application health monitoring"
   ]
  }
 ],
 "metadata": {
  "kernelspec": {
   "display_name": "Python 3 (ipykernel)",
   "language": "python",
   "name": "python3"
  },
  "language_info": {
   "codemirror_mode": {
    "name": "ipython",
    "version": 3
   },
   "file_extension": ".py",
   "mimetype": "text/x-python",
   "name": "python",
   "nbconvert_exporter": "python",
   "pygments_lexer": "ipython3",
   "version": "3.10.8"
  }
 },
 "nbformat": 4,
 "nbformat_minor": 5
}
