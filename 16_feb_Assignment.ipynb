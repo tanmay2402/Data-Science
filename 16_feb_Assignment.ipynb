{
 "cells": [
  {
   "cell_type": "markdown",
   "id": "d4f5b614-8d42-48a8-a654-dc3951c4817f",
   "metadata": {},
   "source": [
    "Q1. What is a database? Differentiate between SQL and NoSQL databases."
   ]
  },
  {
   "cell_type": "markdown",
   "id": "1044e597-dfc2-436b-b0f9-75bb9f8eebae",
   "metadata": {},
   "source": [
    "Ans."
   ]
  },
  {
   "cell_type": "markdown",
   "id": "7e3ff598-4808-4f18-86e3-03ec43eb5857",
   "metadata": {},
   "source": [
    "A database is a collection of data that is stored and organized in a manner that allows for efficient retrieval and manipulation of that data. It is a structured way to store, manage and retrieve information. Databases are used in a variety of applications, ranging from small personal data management systems to large enterprise-level systems.\n",
    "\n",
    "SQL (Structured Query Language) and NoSQL (Not only SQL) are two different types of databases. SQL is a relational database management system that is based on the relational model. It stores data in tables that are related to each other by keys. NoSQL, on the other hand, is a non-relational database management system that is not based on the relational model. It stores data in a variety of ways, such as key-value pairs, document-oriented databases, and graph databases.\n",
    "\n",
    "The main difference between SQL and NoSQL databases is the way they handle data. SQL databases are good for handling structured data that can be easily represented in tables. They are used for applications that require complex querying and transactions, such as banking systems. NoSQL databases, on the other hand, are good for handling unstructured data, such as social media data, that cannot be easily represented in tables. They are used for applications that require high scalability and performance, such as e-commerce websites."
   ]
  },
  {
   "cell_type": "markdown",
   "id": "feb0a251-1d3d-4454-aed5-7233342b1513",
   "metadata": {},
   "source": [
    "Q2. What is DDL? Explain why CREATE, DROP, ALTER, and TRUNCATE are used with an example."
   ]
  },
  {
   "cell_type": "markdown",
   "id": "9cec88ca-e75c-4eca-bbd8-ad41afe00040",
   "metadata": {},
   "source": [
    "Ans."
   ]
  },
  {
   "cell_type": "markdown",
   "id": "6b3be6da-f9ec-41ba-8f32-1f88e5310f83",
   "metadata": {},
   "source": [
    "DDL stands for Data Definition Language, which is a subset of SQL used to define, modify, and drop the structure of database objects. The DDL commands are used to define the database schema and to create and modify the database objects.\n",
    "\n",
    "CREATE: The CREATE statement is used to create a new table, view, or other database object in a database.\n",
    "\n",
    "For example, the following SQL code creates a new table named users with three columns: id, name, and email.\n",
    "\n",
    "CREATE TABLE users (\n",
    "\n",
    "id INT PRIMARY KEY,\n",
    "\n",
    "name VARCHAR(255),\n",
    "|\n",
    "email VARCHAR(255));"
   ]
  },
  {
   "cell_type": "markdown",
   "id": "448fa840-6d1f-4237-951e-1558d0047364",
   "metadata": {},
   "source": [
    "DROP: The DROP statement is used to delete an existing database object from a database.\n",
    "\n",
    "For example, the following SQL code deletes the users table from the database:\n",
    "\n",
    "DROP TABLE users;\n",
    "\n",
    "\n",
    "ALTER: The ALTER statement is used to modify an existing database object, such as a table or a column.\n",
    "\n",
    "For example, the following SQL code adds a new column named age to the users table:\n",
    "\n",
    "ALTER TABLE users ADD COLUMN age INT;\n",
    "\n",
    "\n",
    "TRUNCATE: The TRUNCATE statement is used to delete all the data from a table, but it does not delete the table structure.\n",
    "\n",
    "For example, the following SQL code deletes all the data from the users table:\n",
    "\n",
    "TRUNCATE TABLE users;"
   ]
  },
  {
   "cell_type": "markdown",
   "id": "913e5918-1c42-45a6-a9b7-9b7a5d80ec16",
   "metadata": {},
   "source": [
    "Q3. What is DML? Explain INSERT, UPDATE, and DELETE with an example."
   ]
  },
  {
   "cell_type": "markdown",
   "id": "4eb916ea-e331-42c3-a318-16079b191168",
   "metadata": {},
   "source": [
    "Ans."
   ]
  },
  {
   "cell_type": "markdown",
   "id": "15e2517f-00aa-4cf5-b866-d427830c2885",
   "metadata": {},
   "source": [
    "DML stands for Data Manipulation Language, which is used to manipulate data stored in a database. There are three main DML commands in SQL, which are INSERT, UPDATE, and DELETE.\n",
    "\n",
    "INSERT: The INSERT statement is used to add new rows of data to a table. It takes the form:\n",
    "\n",
    "INSERT INTO table_name (column1, column2, column3, ...)\n",
    "VALUES (value1, value2, value3, ...);\n",
    "\n"
   ]
  },
  {
   "cell_type": "markdown",
   "id": "fd89198d-2436-4df5-9adc-2402420bb9a2",
   "metadata": {},
   "source": [
    "For example, if you have a table called \"employees\" with columns \"id\", \"name\", and \"salary\", and you want to add a new employee with an id of 101, a name of \"John Smith\", and a salary of 50000, you would use the following SQL statement:\n",
    "\n",
    "INSERT INTO employees (id, name, salary)\n",
    "VALUES (101, 'John Smith', 50000);\n",
    "\n",
    "\n",
    "\n",
    "UPDATE: The UPDATE statement is used to modify existing data in a table. It takes the form:\n",
    "\n",
    "UPDATE table_name\n",
    "SET column1 = value1, column2 = value2, ...\n",
    "WHERE condition;\n"
   ]
  },
  {
   "cell_type": "markdown",
   "id": "ccf1ec04-a433-4fd4-b6a1-334df7e9ce40",
   "metadata": {},
   "source": [
    "For example, if you want to update the salary of the employee with an id of 101 to 60000, you would use the following SQL statement:\n",
    "\n",
    "UPDATE employees\n",
    "SET salary = 60000\n",
    "WHERE id = 101;\n",
    "\n",
    "\n",
    "\n",
    "DELETE: The DELETE statement is used to remove rows of data from a table. It takes the form:\n",
    "\n",
    "DELETE FROM table_name\n",
    "WHERE condition;\n",
    "\n",
    "For example, if you want to remove the employee with an id of 101 from the \"employees\" table, you would use the following SQL statement:\n",
    "\n",
    "DELETE FROM employees\n",
    "WHERE id = 101;"
   ]
  },
  {
   "cell_type": "markdown",
   "id": "20708496-e113-49ea-8ed0-e4aa73bf7ca4",
   "metadata": {},
   "source": [
    "Q4. What is DQL? Explain SELECT with an example."
   ]
  },
  {
   "cell_type": "markdown",
   "id": "830b8403-bcac-4ab4-97fe-cc3630208ec4",
   "metadata": {},
   "source": [
    "Ans."
   ]
  },
  {
   "cell_type": "markdown",
   "id": "c8b64190-b469-48b6-85ad-05c0dc55ae24",
   "metadata": {},
   "source": [
    "DQL stands for Data Query Language, which is used to query data from a database. The most commonly used DQL command is SELECT, which is used to retrieve data from a database.\n",
    "\n",
    "The SELECT statement is used to query data from one or more tables in a database. It can be used to retrieve all records from a table or a subset of records based on specified criteria. Here's an example of using the SELECT statement:\n",
    "\n",
    "Suppose we have a table called \"students\" with the following columns: id, name, age, and gender. We want to retrieve the names of all female students in the table. We can use the following SELECT statement:\n",
    "\n",
    "SELECT name FROM students WHERE gender='female';\n",
    "\n",
    "\n",
    "This statement will retrieve the names of all female students in the \"students\" table. The \"WHERE\" clause specifies the condition that the gender must be \"female\"."
   ]
  },
  {
   "cell_type": "markdown",
   "id": "95ad6fca-4a41-492d-a3da-9a3f8b2d2641",
   "metadata": {},
   "source": [
    "Q5. Explain Primary Key and Foreign Key."
   ]
  },
  {
   "cell_type": "markdown",
   "id": "042fc3ec-d8e9-46c3-b102-260ca7ef7c14",
   "metadata": {},
   "source": [
    "Ans."
   ]
  },
  {
   "cell_type": "markdown",
   "id": "492608f2-5269-4910-92f2-4116081e22a6",
   "metadata": {},
   "source": [
    "A primary key is a column or a set of columns in a database table that uniquely identifies each row in the table. It uniquely identifies a record in a table and ensures that there are no duplicate entries in the table.\n",
    "\n",
    "A foreign key is a column or a set of columns in a database table that refers to the primary key of another table. It establishes a link between two tables and ensures referential integrity. It is used to enforce a relationship between two tables where the primary key of one table is used as a reference in another table.\n",
    "\n",
    "For example, consider two tables students and subjects. The students table has columns id and name, where id is the primary key. The subjects table has columns id, student_id, and subject. Here, id is the primary key of the subjects table, and student_id is a foreign key that refers to the id column of the students table. This ensures that each record in the subjects table corresponds to a valid record in the students table."
   ]
  },
  {
   "cell_type": "markdown",
   "id": "a9367621-f43a-4175-a863-f604c5156b25",
   "metadata": {},
   "source": [
    "Q7. Give the order of execution of SQL clauses in an SQL query."
   ]
  },
  {
   "cell_type": "markdown",
   "id": "44f08270-a661-4e95-b3d6-49e392828d99",
   "metadata": {},
   "source": [
    "Ans."
   ]
  },
  {
   "cell_type": "markdown",
   "id": "593be5e0-1d03-4a66-bbe7-0b57f17fe4b3",
   "metadata": {},
   "source": [
    "In a SQL query, the order of execution of the SQL clauses is as follows:\n",
    "\n",
    "1.FROM\n",
    "2.JOIN\n",
    "3.WHERE\n",
    "4.GROUP BY\n",
    "5.HAVING\n",
    "6.SELECT\n",
    "7.DISTINCT\n",
    "8.ORDER BY\n",
    "9.LIMIT"
   ]
  }
 ],
 "metadata": {
  "kernelspec": {
   "display_name": "Python 3 (ipykernel)",
   "language": "python",
   "name": "python3"
  },
  "language_info": {
   "codemirror_mode": {
    "name": "ipython",
    "version": 3
   },
   "file_extension": ".py",
   "mimetype": "text/x-python",
   "name": "python",
   "nbconvert_exporter": "python",
   "pygments_lexer": "ipython3",
   "version": "3.10.8"
  }
 },
 "nbformat": 4,
 "nbformat_minor": 5
}
