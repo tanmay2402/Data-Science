{
 "cells": [
  {
   "cell_type": "markdown",
   "id": "931d8949-8e68-43f6-89b9-fcbea5e6c036",
   "metadata": {},
   "source": [
    "Q1. Create a function which will take a list as an argument and return the product of all the numbers\n",
    "after creating a flat list.\n",
    "\n",
    "Use the below-given list as an argument for your function.\n",
    "\n",
    "list1 = [1,2,3,4, [44,55,66, True], False, (34,56,78,89,34), {1,2,3,3,2,1}, {1:34, \"key2\": [55, 67, 78, 89], 4: (45,\n",
    "22, 61, 34)}, [56, 'data science'], 'Machine Learning']\n",
    "\n",
    "Note: you must extract numeric keys and values of the dictionary also."
   ]
  },
  {
   "cell_type": "markdown",
   "id": "82b11246-2f3e-4d4a-96f0-12bf53037cc3",
   "metadata": {},
   "source": [
    "Ans."
   ]
  },
  {
   "cell_type": "code",
   "execution_count": 8,
   "id": "996109d0-bd25-45eb-a6b9-161a70ae68a4",
   "metadata": {},
   "outputs": [
    {
     "name": "stdout",
     "output_type": "stream",
     "text": [
      "689118639831180913138973540352000\n"
     ]
    }
   ],
   "source": [
    "from functools import reduce\n",
    "def product(list2):\n",
    "    mul = reduce(lambda x, y : x*y, list2)\n",
    "    print(mul)\n",
    "    \n",
    "def flat_list(list1):\n",
    "    l = []\n",
    "    for i in list1:\n",
    "        if type(i) == int:\n",
    "            l.append(i)\n",
    "        elif type(i) == list:\n",
    "            l.extend(flat_list(i))\n",
    "        elif type(i) == tuple:\n",
    "            l.extend(i)\n",
    "        elif type(i) == dict:\n",
    "            for k,v in i.items():\n",
    "                if type(k) in [int,float]:\n",
    "                    l.append(k)\n",
    "                if type(v) in [int,float]:\n",
    "                    l.append(v)\n",
    "                if type(v) in [list,tuple,set]:\n",
    "                    l.extend(flat_list(v))\n",
    "    return l\n",
    "list1 = [1,2,3,4, [44,55,66, True], False, (34,56,78,89,34), {1,2,3,3,2,1}, {1:34, \"key2\": [55, 67, 78, 89], 4: (45,\n",
    "22, 61, 34)}, [56, 'data science'], 'Machine Learning']\n",
    "list2 = flat_list(list1)\n",
    "product(list2)"
   ]
  },
  {
   "cell_type": "markdown",
   "id": "9c9c0709-b2a4-4525-89ea-f880399f9b25",
   "metadata": {},
   "source": [
    "Q2. Write a python program for encrypting a message sent to you by your friend. The logic of encryption\n",
    "should be such that, for a the output should be z. For b, the output should be y. For c, the output should\n",
    "be x respectively. Also, the whitespace should be replaced with a dollar sign. Keep the punctuation\n",
    "marks unchanged.\n",
    "\n",
    "Input Sentence: I want to become a Data Scientist.\n",
    "\n",
    "Encrypt the above input sentence using the program you just created.\n",
    "\n",
    "Note: Convert the given input sentence into lowercase before encrypting. The final output should be\n",
    "lowercase."
   ]
  },
  {
   "cell_type": "markdown",
   "id": "4cf17941-dd88-48dc-b79c-f7f1b62f376f",
   "metadata": {},
   "source": [
    "Ans."
   ]
  },
  {
   "cell_type": "code",
   "execution_count": 10,
   "id": "f6886ebf-b4f5-4c90-ab16-6c0b8bb49c85",
   "metadata": {},
   "outputs": [
    {
     "name": "stdout",
     "output_type": "stream",
     "text": [
      "r$dzmg$gl$yvxlnv$z$wzgz$hxrvmgrhg"
     ]
    }
   ],
   "source": [
    "l = \"abcdefghijklmnopqrstuvwxyz\"\n",
    "alpha = list(map(lambda x : x, l))\n",
    "alpha1 = alpha[::-1]\n",
    "en = {}\n",
    "s,l = 0, len(alpha)-1\n",
    "while s < len(alpha)-1:\n",
    "    en[alpha[s]]=alpha[l]\n",
    "    s+=1\n",
    "    l-=1\n",
    "en[\" \"]=\"$\"\n",
    "data = \"I want to become a Data Scientist\"\n",
    "data = data.lower()\n",
    "for i in data:\n",
    "    d=en[i]\n",
    "    print(d,end=\"\")"
   ]
  },
  {
   "cell_type": "code",
   "execution_count": null,
   "id": "d159fe04-0fea-42a9-888f-ed9b7e1573ea",
   "metadata": {},
   "outputs": [],
   "source": []
  }
 ],
 "metadata": {
  "kernelspec": {
   "display_name": "Python 3 (ipykernel)",
   "language": "python",
   "name": "python3"
  },
  "language_info": {
   "codemirror_mode": {
    "name": "ipython",
    "version": 3
   },
   "file_extension": ".py",
   "mimetype": "text/x-python",
   "name": "python",
   "nbconvert_exporter": "python",
   "pygments_lexer": "ipython3",
   "version": "3.10.8"
  }
 },
 "nbformat": 4,
 "nbformat_minor": 5
}
