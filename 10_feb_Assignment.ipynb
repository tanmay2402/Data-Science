{
 "cells": [
  {
   "cell_type": "markdown",
   "id": "e115e48b-be44-42f4-b15c-0a0f571879f8",
   "metadata": {},
   "source": [
    "Q1. Which function is used to open a file? What are the different modes of opening a file? Explain each mode of file opening."
   ]
  },
  {
   "cell_type": "markdown",
   "id": "2d6f67b2-efc0-4314-83fb-9c7b4dc94c26",
   "metadata": {},
   "source": [
    "Ans."
   ]
  },
  {
   "cell_type": "markdown",
   "id": "f1d43e14-dc53-4ae5-8b48-bc6dacf4bde3",
   "metadata": {},
   "source": [
    "The open function is used to open a file in Python.\n",
    "\n",
    "The open function takes two mandatory arguments: The name of the file to be opened. The mode in which the file is opened.\n",
    "\n",
    "The different modes of opening a file in Python are:\n",
    "\n",
    "'r' (Read Only) - This is the default mode. It opens the file for reading and places the cursor at the beginning of the file. If the file does not exist, an error is raised.\n",
    "\n",
    "'w' (Write Only) - This mode opens the file for writing. If the file already exists, its contents are truncated (deleted). If the file does not exist, a new file is created.\n",
    "\n",
    "'a' (Append Only) - This mode opens the file for writing and appends new data to the end of the file. If the file does not exist, a new file is created.\n",
    "\n",
    "'x' (Exclusive Creation) - This mode opens the file for writing, but only if the file does not already exist. If the file already exists, an error is raised.\n",
    "\n",
    "'b' (Binary Mode) - This mode is used to open binary files like images, audio files, etc. The mode 'b' can be combined with any of the above modes by concatenating the two characters. For example, 'wb' means write in binary mode."
   ]
  },
  {
   "cell_type": "markdown",
   "id": "d5501d90-afc5-4e65-91f9-7abf7ebbe814",
   "metadata": {},
   "source": [
    "Q2. Why close() function is used? Why is it important to close a file?"
   ]
  },
  {
   "cell_type": "markdown",
   "id": "f4e986be-c715-4da1-a0d0-5758f1e8f300",
   "metadata": {},
   "source": [
    "Ans."
   ]
  },
  {
   "cell_type": "markdown",
   "id": "7b1858b2-708b-4e6c-8964-d2842c0c8979",
   "metadata": {},
   "source": [
    "The close() function is used to close an open file in Python. It is important to close a file because it releases the resources and memory that the file was using. Once a file is closed, you can no longer read or write to it, and any changes made to the file are saved. Not closing a file can cause memory leaks and lead to errors if the same file is opened again in the future. Additionally, it is a good practice to close a file after you have finished using it to ensure that resources are released properly.\n",
    "\n"
   ]
  },
  {
   "cell_type": "markdown",
   "id": "a8d9d88b-5582-4a51-9bba-153cff0a2895",
   "metadata": {},
   "source": [
    "Q3. Write a python program to create a text file. Write ‘I want to become a Data Scientist’ in that file. Then close the file. Open this file and read the content of the file."
   ]
  },
  {
   "cell_type": "markdown",
   "id": "80d11abc-f4a6-4e45-82d0-7871f4966f4e",
   "metadata": {},
   "source": [
    "Ans."
   ]
  },
  {
   "cell_type": "code",
   "execution_count": 5,
   "id": "c4c55ac2-4eb0-4540-ae0d-12cdb3f5cf85",
   "metadata": {},
   "outputs": [
    {
     "name": "stdout",
     "output_type": "stream",
     "text": [
      "I want to become a Data Scientist\n"
     ]
    }
   ],
   "source": [
    "#opening a file\n",
    "f = open(\"file.txt\", 'w') \n",
    "#writing in file\n",
    "f.write(\"I want to become a Data Scientist\")\n",
    "#closing the file\n",
    "f.close()\n",
    "#opening the file\n",
    "f = open(\"file.txt\",'r')\n",
    "#reading the cotent\n",
    "read = f.read()\n",
    "print(read)\n",
    "f.close()"
   ]
  },
  {
   "cell_type": "markdown",
   "id": "e97797df-a54b-4174-b0b7-bc538d6b8a92",
   "metadata": {},
   "source": [
    "Q4. Explain the following with python code: read(), readline() and readlines()."
   ]
  },
  {
   "cell_type": "markdown",
   "id": "28d7fe19-8bc2-44f2-9ee9-1af674b0d9b2",
   "metadata": {},
   "source": [
    "Ans."
   ]
  },
  {
   "cell_type": "code",
   "execution_count": 7,
   "id": "22c46e6d-fd11-48bb-8cf6-6b88c0265c75",
   "metadata": {},
   "outputs": [
    {
     "name": "stdout",
     "output_type": "stream",
     "text": [
      "I want to become a Data Scientist\n"
     ]
    }
   ],
   "source": [
    "# read(): This function reads the entire contents of a text file as a single string.\n",
    "\n",
    "# Opening the file for reading\n",
    "file = open(\"file.txt\", \"r\")\n",
    "\n",
    "# Reading the contents of the file\n",
    "content = file.read()\n",
    "\n",
    "# Printing the contents of the file\n",
    "print(content)\n",
    "\n",
    "# Closing the file\n",
    "file.close()"
   ]
  },
  {
   "cell_type": "code",
   "execution_count": 10,
   "id": "6390388a-a48f-4108-b56b-9b321feef336",
   "metadata": {},
   "outputs": [
    {
     "name": "stdout",
     "output_type": "stream",
     "text": [
      "I want to become a Data Scientist\n",
      "\n"
     ]
    }
   ],
   "source": [
    "\"\"\"\n",
    "readline(): This function reads a single line of the text file.\n",
    "The cursor position moves to the next line after each call.\n",
    "\n",
    "\"\"\"\n",
    "\n",
    "# Opening the file for reading\n",
    "file = open(\"file.txt\", \"r\")\n",
    "\n",
    "# Reading the first line of the file\n",
    "first_line = file.readline()\n",
    "\n",
    "# Printing the first line\n",
    "print(first_line)\n",
    "\n",
    "# Reading the second line of the file\n",
    "second_line = file.readline()\n",
    "\n",
    "# Printing the second line\n",
    "print(second_line)\n",
    "\n",
    "# Closing the file\n",
    "file.close()"
   ]
  },
  {
   "cell_type": "code",
   "execution_count": 11,
   "id": "c08b2ee8-6f2f-4f1b-acd4-3f2d279f66db",
   "metadata": {},
   "outputs": [
    {
     "name": "stdout",
     "output_type": "stream",
     "text": [
      "I want to become a Data Scientist\n"
     ]
    }
   ],
   "source": [
    "\"\"\"\n",
    "\n",
    "readlines(): This function reads the entire contents of the text file as a list of strings, where each line is a single element of the list.\n",
    "\n",
    "\"\"\"\n",
    "\n",
    "# Opening the file for reading\n",
    "file = open(\"file.txt\", \"r\")\n",
    "\n",
    "# Reading the lines of the file\n",
    "lines = file.readlines()\n",
    "\n",
    "# Printing the lines\n",
    "for line in lines:\n",
    "    print(line)\n",
    "\n",
    "# Closing the file\n",
    "file.close()"
   ]
  },
  {
   "cell_type": "markdown",
   "id": "a7f80435-591c-49e0-baaf-69f91e96bb34",
   "metadata": {},
   "source": [
    "Q5. Explain why with statement is used with open(). What is the advantage of using with statement and open() together?"
   ]
  },
  {
   "cell_type": "markdown",
   "id": "f0cfe7cd-cd1c-4ad1-a0ef-8abf05d24e1e",
   "metadata": {},
   "source": [
    "Ans."
   ]
  },
  {
   "cell_type": "markdown",
   "id": "939d1c6c-7234-452f-8912-00b2ea1b1c95",
   "metadata": {},
   "source": [
    "The with statement is used with the open() function to ensure that a file is closed properly after being used, even if an exception is raised during the processing.\n",
    "\n",
    "The advantage of using with statement with open() is that it automatically closes the file when the block of code inside the with statement is finished, regardless of whether the file was successfully processed or not. This eliminates the need to manually call the close() method and helps to avoid resource leaks or data loss. The code inside the with statement is also more readable and less error-prone."
   ]
  },
  {
   "cell_type": "markdown",
   "id": "33d8701e-5b5b-4635-ad5b-fedbb9344a30",
   "metadata": {},
   "source": [
    "Q6. Explain the write() and writelines() functions. Give a suitable example."
   ]
  },
  {
   "cell_type": "markdown",
   "id": "9c23f63e-57e3-44c6-a289-b668ba8bd873",
   "metadata": {},
   "source": [
    "Ams."
   ]
  },
  {
   "cell_type": "markdown",
   "id": "2ae7ce0a-d79d-41d8-ab32-ba67f3a2ece4",
   "metadata": {},
   "source": [
    "write() function\n",
    "The write() function will write the content in the file without adding any extra characters."
   ]
  },
  {
   "cell_type": "code",
   "execution_count": 12,
   "id": "9998bd22-c825-4786-b73c-6466cf2dd788",
   "metadata": {},
   "outputs": [
    {
     "name": "stdin",
     "output_type": "stream",
     "text": [
      "Enter the name of the employee:  Tanmay\n",
      "Enter the name of the employee:  Rahul\n",
      "Enter the name of the employee:  Raj\n"
     ]
    },
    {
     "name": "stdout",
     "output_type": "stream",
     "text": [
      "Data is written into the file.\n"
     ]
    }
   ],
   "source": [
    "#Example\n",
    "file = open(\"Employees.txt\", \"w\")\n",
    "  \n",
    "for i in range(3):\n",
    "   name = input(\"Enter the name of the employee: \")\n",
    "   file.write(name)\n",
    "   file.write(\"\\n\")\n",
    "     \n",
    "file.close()\n",
    "  \n",
    "print(\"Data is written into the file.\")"
   ]
  },
  {
   "cell_type": "markdown",
   "id": "ced89e4f-6f9c-4d6c-8a6d-50ca2ebf9ff0",
   "metadata": {},
   "source": [
    "writelines()\n",
    "This function writes the content of a list to a file."
   ]
  },
  {
   "cell_type": "code",
   "execution_count": 14,
   "id": "66fc7eb9-224c-4ce4-a77c-92054538a2e2",
   "metadata": {},
   "outputs": [
    {
     "name": "stdin",
     "output_type": "stream",
     "text": [
      "Enter the name of the employee:  Tanmay\n",
      "Enter the name of the employee:  Rahul\n",
      "Enter the name of the employee:  Ram\n"
     ]
    },
    {
     "name": "stdout",
     "output_type": "stream",
     "text": [
      "Data is written into the file.\n"
     ]
    }
   ],
   "source": [
    "#Example\n",
    "file1 = open(\"Employees.txt\", \"w\")\n",
    "lst = []\n",
    "for i in range(3):\n",
    "    name = input(\"Enter the name of the employee: \")\n",
    "    lst.append(name + '\\n')\n",
    "      \n",
    "file1.writelines(lst)\n",
    "file1.close()\n",
    "print(\"Data is written into the file.\") "
   ]
  }
 ],
 "metadata": {
  "kernelspec": {
   "display_name": "Python 3 (ipykernel)",
   "language": "python",
   "name": "python3"
  },
  "language_info": {
   "codemirror_mode": {
    "name": "ipython",
    "version": 3
   },
   "file_extension": ".py",
   "mimetype": "text/x-python",
   "name": "python",
   "nbconvert_exporter": "python",
   "pygments_lexer": "ipython3",
   "version": "3.10.8"
  }
 },
 "nbformat": 4,
 "nbformat_minor": 5
}
