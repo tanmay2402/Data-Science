{
 "cells": [
  {
   "cell_type": "markdown",
   "id": "a82a37e3-6dfb-4612-8f72-3231f941551f",
   "metadata": {},
   "source": [
    "Q1. How can you create a Bokeh plot using Python code?"
   ]
  },
  {
   "cell_type": "markdown",
   "id": "921e2beb-1289-4bad-8541-2dc51f263e43",
   "metadata": {},
   "source": [
    "Ans"
   ]
  },
  {
   "cell_type": "markdown",
   "id": "37c5e971-6573-4bfa-b7ee-882c0814fd6c",
   "metadata": {},
   "source": [
    "import bokeh.plotting as bp import bokeh.io as bi import pandas as pd # Define some data to plot x = [1, 2, 3, 4, 5] y = [1, 4, 9, 16, 25] # Create a figure object fig = bp.figure(title='My Plot', x_axis_label='X', y_axis_label='Y') # Add a circle glyph to the plot fig.circle(x, y, size=10, color='navy', alpha=0.5) # Display the plot bi.show(fig)"
   ]
  },
  {
   "cell_type": "markdown",
   "id": "6681a224-74c0-44fd-bdc5-c15196d06434",
   "metadata": {},
   "source": [
    "Q2. What are glyphs in Bokeh, and how can you add them to a Bokeh plot? Explain with an example."
   ]
  },
  {
   "cell_type": "markdown",
   "id": "7ca61301-58c1-49fc-9637-7d22e11d8cd6",
   "metadata": {},
   "source": [
    "Ans"
   ]
  },
  {
   "cell_type": "markdown",
   "id": "d9d083e5-51c6-45fc-b686-5c8530f66af8",
   "metadata": {},
   "source": [
    "Glyphs in Bokeh are the visual building blocks used to create plots. Glyphs represent the different shapes and markers used to display data points, such as circles, squares, lines, etc. Each glyph is defined by a set of properties, such as position, size, color, and transparency, which are used to customize its appearance.\n",
    "\n",
    "To add glyphs to a Bokeh plot, you need to create a figure object using the figure() function from bokeh.plotting, and then call one of the glyph methods such as circle(), line(), or rect() from the figure object. These methods take the data and the properties of the glyph as arguments."
   ]
  },
  {
   "cell_type": "markdown",
   "id": "ca046ce9-3933-4a99-83d8-2db18846d617",
   "metadata": {},
   "source": [
    "import bokeh.plotting as bp import bokeh.io as bi import pandas as pd # Load the iris dataset from Bokeh from bokeh.sampledata.iris import flowers as iris_data # Create a figure object fig = bp.figure(title='Iris Scatter Plot', x_axis_label='Petal Length', y_axis_label='Petal Width') # Add a circle glyph to the plot fig.circle(x=iris_data[\"petal_length\"], y=iris_data[\"petal_width\"], size=10, color='blue', alpha=0.5) # Display the plot bi.show(fig)"
   ]
  },
  {
   "cell_type": "markdown",
   "id": "6bbb6ddc-dc24-497a-8c16-9f3abc805031",
   "metadata": {},
   "source": [
    "Q3. How can you customize the appearance of a Bokeh plot, including the axes, title, and legend?"
   ]
  },
  {
   "cell_type": "markdown",
   "id": "ad9726a6-255c-44d4-92eb-220f1e08174d",
   "metadata": {},
   "source": [
    "Ans"
   ]
  },
  {
   "cell_type": "markdown",
   "id": "22266ee7-9e8a-42df-ab90-0537baffee25",
   "metadata": {},
   "source": [
    "1.Bokeh provides a wide range of options to customize the appearance of a plot. Here are some of the ways to customize the appearance of a Bokeh plot:\n",
    "\n",
    "Title and Axis Labels: You can add a title and axis labels to your plot using the title, x_axis_label, and y_axis_label attributes of the figure object."
   ]
  },
  {
   "cell_type": "markdown",
   "id": "18fb2b52-f882-4e0a-be8b-06142e48cf8e",
   "metadata": {},
   "source": [
    "fig = bp.figure(title='My Plot', x_axis_label='X Axis', y_axis_label='Y Axis')"
   ]
  },
  {
   "cell_type": "markdown",
   "id": "020174b6-394d-4bd3-b803-3cfe9542425a",
   "metadata": {},
   "source": [
    "2.Axis Ticks and Labels: You can customize the axis ticks and labels using the major_label_text_font_size, axis_label_text_font_size, and major_tick_line_color attributes of the Axis class."
   ]
  },
  {
   "cell_type": "markdown",
   "id": "f4784d7e-fb81-4f60-a391-b8fb0710367b",
   "metadata": {},
   "source": [
    "fig.xaxis.major_label_text_font_size = '14pt' fig.yaxis.major_label_text_font_size = '14pt' fig.xaxis.axis_label_text_font_size = '16pt' fig.yaxis.axis_label_text_font_size = '16pt' fig.xaxis.major_tick_line_color = 'red' fig.yaxis.major_tick_line_color = 'red'"
   ]
  },
  {
   "cell_type": "markdown",
   "id": "018ee593-876d-4019-a5d9-5926755f320f",
   "metadata": {},
   "source": [
    "3.Legend: You can add a legend to your plot using the legend attribute of the glyph methods. You can customize the location and title of the legend using the location and title attributes."
   ]
  },
  {
   "cell_type": "markdown",
   "id": "e1ce0f91-8bbb-4fdd-9bd7-9e5ce65b6e8b",
   "metadata": {},
   "source": [
    "fig.circle(x='x', y='y1', size=10, color='blue', legend_label='Series 1') fig.line(x='x', y='y2', line_width=2, color='red', legend_label='Series 2') fig.legend.location = 'top_left' fig.legend.title = 'Legend Title'"
   ]
  },
  {
   "cell_type": "markdown",
   "id": "09e9b08a-d24d-4382-aa28-6d2a4aab5827",
   "metadata": {},
   "source": [
    "4.Background: You can set the background color of your plot using the background_fill_color attribute of the figure object."
   ]
  },
  {
   "cell_type": "markdown",
   "id": "449f0f25-b54b-42d9-9ab9-9c4490adcd66",
   "metadata": {},
   "source": [
    "fig.background_fill_color = '#f2f2f2'"
   ]
  },
  {
   "cell_type": "markdown",
   "id": "6580fd4f-f002-44f8-837a-c37291edd819",
   "metadata": {},
   "source": [
    "5.Gridlines: You can customize the appearance of the gridlines using the grid_line_color and grid_line_alpha attributes of the figure object."
   ]
  },
  {
   "cell_type": "markdown",
   "id": "cb7ca02e-777a-4205-8254-10248fdc79d2",
   "metadata": {},
   "source": [
    "fig.grid.grid_line_color = 'white' fig.grid.grid_line_alpha = 0.5"
   ]
  },
  {
   "cell_type": "markdown",
   "id": "3c3c670b-771f-4a53-86be-f7590beba046",
   "metadata": {},
   "source": [
    "Q4. What is a Bokeh server, and how can you use it to create interactive plots that can be updated in\n",
    "real time?"
   ]
  },
  {
   "cell_type": "markdown",
   "id": "531d57d1-6b09-447c-a38b-a9849965d84e",
   "metadata": {},
   "source": [
    "Ans"
   ]
  },
  {
   "cell_type": "markdown",
   "id": "8799559a-f0b4-489b-ad4d-da0470034782",
   "metadata": {},
   "source": [
    "Bokeh server is a Python library that allows you to create interactive Bokeh plots that can be updated in real-time. Bokeh server is built on top of Tornado, a scalable web framework for Python.\n",
    "\n",
    "To create an interactive plot using Bokeh server, you need to define your plot as a Bokeh Document object. The Document object contains all the Bokeh objects that make up your plot, such as figures, glyphs, and layouts. You can then add interactive widgets to your plot, such as sliders, buttons, and dropdown menus. The widgets are defined using Bokeh's models API and added to the Document.\n",
    "\n",
    "Once you have defined your plot and added interactive widgets, you can run the Bokeh server using the bokeh serve command. The Bokeh server creates a web application that serves your plot and widgets. When a user interacts with the widgets, the server updates the plot in real-time based on the user's input.\n",
    "\n",
    "Here is an example of how to create an interactive Bokeh plot using Bokeh server:"
   ]
  },
  {
   "cell_type": "markdown",
   "id": "0df92edd-f3c2-40f7-a38b-3c281854b6ca",
   "metadata": {},
   "source": [
    "from bokeh.io import curdoc from bokeh.layouts import column from bokeh.models import ColumnDataSource, Slider from bokeh.plotting import figure # Define the data source source = ColumnDataSource(data=dict(x=[1, 2, 3], y=[1, 4, 9])) # Define the plot plot = figure(title='Interactive Plot', x_axis_label='X', y_axis_label='Y') plot.line('x', 'y', source=source, line_width=2) # Define the slider widget slider = Slider(title='Power', value=1, start=0.1, end=5, step=0.1) # Define the callback function def update_data(attrname, old, new): new_y = [x**slider.value for x in source.data['x']] source.data = dict(x=source.data['x'], y=new_y) slider.on_change('value', update_data) # Combine the plot and slider into a layout layout = column(plot, slider) # Add the layout to the current document curdoc().add_root(layout)"
   ]
  },
  {
   "cell_type": "markdown",
   "id": "0072152c-ff8b-4586-b536-590cf6fecd7a",
   "metadata": {},
   "source": [
    "Q5. How can you embed a Bokeh plot into a web page or dashboard using Flask or Django?"
   ]
  },
  {
   "cell_type": "markdown",
   "id": "8dd7b51d-854d-4cc7-888c-1b5c06ce28dd",
   "metadata": {},
   "source": [
    "Ans"
   ]
  },
  {
   "cell_type": "markdown",
   "id": "c4a795ba-7de7-425a-9540-3dd752c6d62f",
   "metadata": {},
   "source": [
    "from flask import Flask, render_template from bokeh.embed import components from bokeh.plotting import figure from bokeh.resources import CDN app = Flask(__name__) @app.route('/') def index(): # Create the plot plot = figure(title='My Plot', x_axis_label='X', y_axis_label='Y') plot.line([1, 2, 3], [1, 4, 9]) # Generate the HTML components script, div = components(plot) # Render the template with the plot components return render_template('index.html', script=script, div=div, cdn_js=CDN.js_files[0], cdn_css=CDN.css_files[0]) if __name__ == '__main__': app.run()"
   ]
  }
 ],
 "metadata": {
  "kernelspec": {
   "display_name": "Python 3 (ipykernel)",
   "language": "python",
   "name": "python3"
  },
  "language_info": {
   "codemirror_mode": {
    "name": "ipython",
    "version": 3
   },
   "file_extension": ".py",
   "mimetype": "text/x-python",
   "name": "python",
   "nbconvert_exporter": "python",
   "pygments_lexer": "ipython3",
   "version": "3.10.8"
  }
 },
 "nbformat": 4,
 "nbformat_minor": 5
}
