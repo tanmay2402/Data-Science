{
 "cells": [
  {
   "cell_type": "markdown",
   "id": "3d93c08d-086c-4e93-b189-c552d11454aa",
   "metadata": {},
   "source": [
    "Q1. You are writing code for a company. The requirement of the company is that you create a python\n",
    "function that will check whether the password entered by the user is correct or not. The function should\n",
    "take the password as input and return the string “Valid Password” if the entered password follows the\n",
    "below-given password guidelines else it should return “Invalid Password”.\n",
    "\n",
    "Note:\n",
    "1. The Password should contain at least two uppercase letters and at least two lowercase letters.\n",
    "2. The Password should contain at least a number and three special characters.\n",
    "3. The length of the password should be 10 characters long."
   ]
  },
  {
   "cell_type": "markdown",
   "id": "0297daf8-d4af-4a7f-bf17-1c5d37066fed",
   "metadata": {},
   "source": [
    "Ans."
   ]
  },
  {
   "cell_type": "code",
   "execution_count": 3,
   "id": "6a5d070b-8574-411d-9547-2083aa9a3c8e",
   "metadata": {},
   "outputs": [
    {
     "name": "stdin",
     "output_type": "stream",
     "text": [
      "Enter the password TAnmay7@#$\n"
     ]
    },
    {
     "name": "stdout",
     "output_type": "stream",
     "text": [
      "Valid Password\n"
     ]
    }
   ],
   "source": [
    "def check_pas(pas):\n",
    "    if len(pas) == 10:\n",
    "        lower_count = 0\n",
    "        upper_count = 0\n",
    "        num_count = 0\n",
    "        special_count = 0\n",
    "        for i in pas:\n",
    "            if i.islower():\n",
    "                lower_count += 1\n",
    "            if i.isupper():\n",
    "                upper_count += 1\n",
    "            if i.isdigit():\n",
    "                num_count += 1\n",
    "            if i in [\"~\",\"!\",\"@\",\"#\",\"$\",\"%\",\"^\",\"&\",\"*\",\"(\",\")\"]:\n",
    "                special_count += 1\n",
    "        if upper_count >= 2 and lower_count >= 2 and num_count >= 1 and special_count >= 3 :\n",
    "            return True\n",
    "    else :\n",
    "        return 0\n",
    "    \n",
    "pas = input(\"Enter the password\")\n",
    "result = check_pas(pas)\n",
    "if result :\n",
    "    print(\"Valid Password\")\n",
    "else :\n",
    "    print(\"Invalid Password\")"
   ]
  },
  {
   "cell_type": "markdown",
   "id": "b8b22845-ccf1-4ade-973e-b908308550f9",
   "metadata": {},
   "source": [
    "Q2. Solve the below-given questions using at least one of the following:\n",
    "    \n",
    "1. Lambda functioJ\n",
    "2. Filter functioJ\n",
    "3. Zap functioJ\n",
    "4. List ComprehensioI\n",
    "\n",
    " Check if the string starts with a particular letter\n",
    " \n",
    " Check if the string is numeric\n",
    " \n",
    " Sort a list of tuples having fruit names and their quantity. [(\"mango\",99),(\"orange\",80), (\"grapes\", 1000)]\n",
    " \n",
    " Find the squares of numbers from 1 to 10\n",
    " \n",
    " Find the cube root of numbers from 1 to 10\n",
    " \n",
    " Check if a given number is even\n",
    " \n",
    " Filter odd numbers from the given list.\n",
    " \n",
    " [1,2,3,4,5,6,7,8,9,10]\n",
    " \n",
    " Sort a list of integers into positive and negative integers lists.\n",
    " [1,2,3,4,5,6,-1,-2,-3,-4,-5,0]"
   ]
  },
  {
   "cell_type": "markdown",
   "id": "0f67dac0-1952-4d15-b301-2422f364e9e3",
   "metadata": {},
   "source": [
    "Ans."
   ]
  },
  {
   "cell_type": "code",
   "execution_count": 7,
   "id": "6d2ce3f1-7524-42e4-8b14-c67d77b1c4cc",
   "metadata": {},
   "outputs": [
    {
     "name": "stdout",
     "output_type": "stream",
     "text": [
      "True\n"
     ]
    }
   ],
   "source": [
    "#Check if the string starts with a particular letter\n",
    "list1 = [\"tanmay\",\"singh\",\"Rahul\",\"raju\",\"ram\",\"shyam\",\"ravi\"]\n",
    "letter = 'r'\n",
    "l2 = list(filter(lambda x : x.lower().startswith(letter), list1))\n",
    "\n",
    "if len(l2) > 0 :\n",
    "    print(True)\n",
    "else :\n",
    "    print(False)\n"
   ]
  },
  {
   "cell_type": "code",
   "execution_count": 9,
   "id": "9f49a279-5a89-43e5-9bc6-de3525ce314d",
   "metadata": {},
   "outputs": [
    {
     "name": "stdout",
     "output_type": "stream",
     "text": [
      "True\n"
     ]
    }
   ],
   "source": [
    "# Check if the string is numeric\n",
    "list1 =['123','abc','234']\n",
    "l2 = list(filter(lambda x : x.isdigit(), list1))\n",
    "\n",
    "if len(l2) > 0:\n",
    "    print(True)\n",
    "else :\n",
    "    print(False)"
   ]
  },
  {
   "cell_type": "code",
   "execution_count": 11,
   "id": "0c4c6846-7f69-4578-a697-fa6489162d5a",
   "metadata": {},
   "outputs": [
    {
     "data": {
      "text/plain": [
       "[('orange', 80), ('mango', 99), ('grapes', 1000)]"
      ]
     },
     "execution_count": 11,
     "metadata": {},
     "output_type": "execute_result"
    }
   ],
   "source": [
    "#Sort a list of tuples having fruit names and their quantity. [(\"mango\",99),(\"orange\",80), (\"grapes\", 1000)]\n",
    "fruits = [(\"mango\",99),(\"orange\",80), (\"grapes\", 1000)]\n",
    "sorted_fruits = sorted(fruits,key = lambda x : x[1])\n",
    "sorted_fruits"
   ]
  },
  {
   "cell_type": "code",
   "execution_count": 14,
   "id": "c5063e32-9438-4a45-8139-19f9e158c7da",
   "metadata": {},
   "outputs": [
    {
     "data": {
      "text/plain": [
       "[1, 4, 9, 16, 25, 36, 49, 64, 81, 100]"
      ]
     },
     "execution_count": 14,
     "metadata": {},
     "output_type": "execute_result"
    }
   ],
   "source": [
    "#Find the squares of numbers from 1 to 10\n",
    "num = [ i ** 2 for i in range(1,11) ]\n",
    "num"
   ]
  },
  {
   "cell_type": "code",
   "execution_count": 17,
   "id": "f0e37388-d503-4b50-bf16-afe16c56887d",
   "metadata": {},
   "outputs": [
    {
     "data": {
      "text/plain": [
       "[1.0,\n",
       " 1.2599210498948732,\n",
       " 1.4422495703074083,\n",
       " 1.5874010519681994,\n",
       " 1.7099759466766968,\n",
       " 1.8171205928321397,\n",
       " 1.912931182772389,\n",
       " 2.0,\n",
       " 2.080083823051904,\n",
       " 2.154434690031884]"
      ]
     },
     "execution_count": 17,
     "metadata": {},
     "output_type": "execute_result"
    }
   ],
   "source": [
    "#Find the cube root of numbers from 1 to 10\n",
    "import math\n",
    "num = [math.pow(i,1/3) for i in range(1,11)]\n",
    "num"
   ]
  },
  {
   "cell_type": "code",
   "execution_count": 18,
   "id": "ff67bc45-4c83-4d15-9916-6da23571c3e9",
   "metadata": {},
   "outputs": [
    {
     "data": {
      "text/plain": [
       "[12, 234, 44, 34]"
      ]
     },
     "execution_count": 18,
     "metadata": {},
     "output_type": "execute_result"
    }
   ],
   "source": [
    " #Check if a given number is even\n",
    "num = [12,234,331,44,34,25,67,89,123]\n",
    "result = list(filter(lambda x : x % 2 == 0, num))\n",
    "result"
   ]
  },
  {
   "cell_type": "code",
   "execution_count": 19,
   "id": "79e9e538-c196-4557-86cb-2f6e86925c4f",
   "metadata": {},
   "outputs": [
    {
     "data": {
      "text/plain": [
       "[1, 3, 5, 7, 9]"
      ]
     },
     "execution_count": 19,
     "metadata": {},
     "output_type": "execute_result"
    }
   ],
   "source": [
    "#Filter odd numbers from the given list. [1,2,3,4,5,6,7,8,9,10]\n",
    "list1 = [1,2,3,4,5,6,7,8,9,10]\n",
    "odd_num = list(filter(lambda x : x % 2 != 0, list1))\n",
    "odd_num"
   ]
  },
  {
   "cell_type": "code",
   "execution_count": 21,
   "id": "7c1b7cc0-2101-455e-abac-1d41a48af0cd",
   "metadata": {},
   "outputs": [
    {
     "name": "stdout",
     "output_type": "stream",
     "text": [
      "[1, 2, 3, 4, 5, 6, 0] [-1, -2, -3, -4, -5]\n"
     ]
    }
   ],
   "source": [
    "# Sort a list of integers into positive and negative integers lists. [1,2,3,4,5,6,-1,-2,-3,-4,-5,0]\n",
    "l = [1,2,3,4,5,6,-1,-2,-3,-4,-5,0]\n",
    "positive = list(filter(lambda x : x >= 0 , l))\n",
    "negative = list(filter(lambda x : x < 0 , l))\n",
    "print(positive, negative)"
   ]
  }
 ],
 "metadata": {
  "kernelspec": {
   "display_name": "Python 3 (ipykernel)",
   "language": "python",
   "name": "python3"
  },
  "language_info": {
   "codemirror_mode": {
    "name": "ipython",
    "version": 3
   },
   "file_extension": ".py",
   "mimetype": "text/x-python",
   "name": "python",
   "nbconvert_exporter": "python",
   "pygments_lexer": "ipython3",
   "version": "3.10.8"
  }
 },
 "nbformat": 4,
 "nbformat_minor": 5
}
