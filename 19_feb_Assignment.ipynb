{
 "cells": [
  {
   "cell_type": "markdown",
   "id": "e1e10bd7-4ba1-45e7-b77c-c530c2d8ffd4",
   "metadata": {},
   "source": [
    "\n",
    "Q1. What is Flask Framework? What are the advantages of Flask Framework?"
   ]
  },
  {
   "cell_type": "markdown",
   "id": "f3b68774-1cdf-4f3c-8f26-591f31e3707f",
   "metadata": {},
   "source": [
    "Ans."
   ]
  },
  {
   "cell_type": "markdown",
   "id": "02797e1b-dca6-47fb-83a0-3a7298cd917f",
   "metadata": {},
   "source": [
    "Ans 1.Flask is a micro web framework written in Python. It is classified as a microframework because it does not require particular tools or libraries. Flask aims to keep the core of the application simple yet extensible. Flask has become popular among developers due to its simplicity, flexibility, and ease of use.\n",
    "\n",
    "Advantages of Flask include:\n",
    "\n",
    "1.Lightweight: Flask is a lightweight framework, making it easy to learn and use.\n",
    "\n",
    "2.Flexibility: Flask allows developers to choose the components they want to use, which makes it a flexible framework for building web applications.\n",
    "\n",
    "3.Modular: Flask is designed to be modular, allowing developers to add functionality as needed.\n",
    "\n",
    "4.Easy to get started: Flask has a small learning curve, and it's easy to get started with building web applications using this framework.\n",
    "\n",
    "5.Good documentation: Flask has excellent documentation, making it easy for developers to find answers to their questions and solve problems.\n",
    "\n",
    "6.Large community: Flask has a large community of developers who contribute to the framework's development, ensuring that it stays up-to-date and relevant."
   ]
  },
  {
   "cell_type": "markdown",
   "id": "55bc9cad-4356-465f-9489-8defb2101927",
   "metadata": {},
   "source": [
    "Q2. Create a simple Flask application to display ‘Hello World!!’. Attach the screenshot of the output in Jupyter Notebook."
   ]
  },
  {
   "cell_type": "markdown",
   "id": "129512da-e358-44a3-8823-6e4cafb5f3e0",
   "metadata": {},
   "source": [
    "Ans."
   ]
  },
  {
   "cell_type": "code",
   "execution_count": 1,
   "id": "9821ac98-1802-49e4-82f4-c496cdaeb2df",
   "metadata": {},
   "outputs": [
    {
     "ename": "ModuleNotFoundError",
     "evalue": "No module named 'flask'",
     "output_type": "error",
     "traceback": [
      "\u001b[0;31m---------------------------------------------------------------------------\u001b[0m",
      "\u001b[0;31mModuleNotFoundError\u001b[0m                       Traceback (most recent call last)",
      "Cell \u001b[0;32mIn[1], line 1\u001b[0m\n\u001b[0;32m----> 1\u001b[0m \u001b[38;5;28;01mfrom\u001b[39;00m \u001b[38;5;21;01mflask\u001b[39;00m \u001b[38;5;28;01mimport\u001b[39;00m Flask\n\u001b[1;32m      3\u001b[0m app \u001b[38;5;241m=\u001b[39m Flask(\u001b[38;5;18m__name__\u001b[39m)\n\u001b[1;32m      5\u001b[0m \u001b[38;5;129m@app\u001b[39m\u001b[38;5;241m.\u001b[39mroute(\u001b[38;5;124m'\u001b[39m\u001b[38;5;124m/\u001b[39m\u001b[38;5;124m'\u001b[39m)\n\u001b[1;32m      6\u001b[0m \u001b[38;5;28;01mdef\u001b[39;00m \u001b[38;5;21mhello_world\u001b[39m():\n",
      "\u001b[0;31mModuleNotFoundError\u001b[0m: No module named 'flask'"
     ]
    }
   ],
   "source": [
    "from flask import Flask\n",
    "\n",
    "app = Flask(__name__)\n",
    "\n",
    "@app.route('/')\n",
    "def hello_world():\n",
    "    return 'Hello World!!'\n",
    "\n",
    "if __name__ == '__main__':\n",
    "    app.run()"
   ]
  },
  {
   "cell_type": "code",
   "execution_count": 4,
   "id": "a81432e8-f7a6-4f5d-bfa1-bb220bff6e8f",
   "metadata": {},
   "outputs": [
    {
     "data": {
      "text/html": [
       "<img src=\"Screenshot 2023-05-16 110712.jpeg\" width=\"300\" height=\"300\"/>"
      ],
      "text/plain": [
       "<IPython.core.display.Image object>"
      ]
     },
     "execution_count": 4,
     "metadata": {},
     "output_type": "execute_result"
    }
   ],
   "source": [
    "# import image module\n",
    "from IPython.display import Image\n",
    "\n",
    "# get the image\n",
    "Image(url=\"Screenshot 2023-05-16 110712.jpeg\", width=300, height=300)"
   ]
  },
  {
   "cell_type": "markdown",
   "id": "eff7aa40-b398-428d-b0fe-428ae8f5dd70",
   "metadata": {},
   "source": [
    "Q3. What is App routing in Flask? Why do we use app routes?"
   ]
  },
  {
   "cell_type": "markdown",
   "id": "45c5b537-16ae-4a43-83c1-8607172af3ae",
   "metadata": {},
   "source": [
    "Ans."
   ]
  },
  {
   "cell_type": "markdown",
   "id": "b58fd26d-0a1e-4ada-a7e5-de240d7ea058",
   "metadata": {},
   "source": [
    "App routing in Flask refers to the process of defining URL patterns and associating them with view functions that generate responses. It is a way of mapping URLs in your web application to Python functions that will be executed when a user visits those URLs.\n",
    "\n",
    "In Flask, we use app routes to define the behavior of our web application when a particular URL is accessed. App routes allow us to specify which function should handle a request for a specific URL pattern.\n",
    "\n",
    "We use app routes to create different pages or views in our web application. Each view can have its own unique URL pattern, and Flask's routing mechanism ensures that requests to those URLs are handled appropriately. We can also pass parameters to app routes, allowing us to create dynamic views that vary based on user input or other factors.\n",
    "\n",
    "Overall, app routes in Flask provide a clean and flexible way to define the behavior of our web application and make it easy for users to access the different pages and functionality within it."
   ]
  },
  {
   "cell_type": "markdown",
   "id": "95e0a544-4726-4a5f-b01f-8f68287f6e6d",
   "metadata": {},
   "source": [
    "Q4. Create a “/welcome” route to display the welcome message “Welcome to ABC Corporation” and a “/”\n",
    "route to show the following details:\n",
    "\n",
    "Company Name: ABC Corporation\n",
    "\n",
    "Location: India\n",
    "\n",
    "Contact Detail: 999-999-9999"
   ]
  },
  {
   "cell_type": "markdown",
   "id": "c86d525a-0c0d-43fb-80b6-fd6135023c9e",
   "metadata": {},
   "source": [
    "Ans."
   ]
  },
  {
   "cell_type": "code",
   "execution_count": 2,
   "id": "1e1b9b7e-22aa-40fb-b4fb-85e54bf59349",
   "metadata": {},
   "outputs": [
    {
     "ename": "ModuleNotFoundError",
     "evalue": "No module named 'flask'",
     "output_type": "error",
     "traceback": [
      "\u001b[0;31m---------------------------------------------------------------------------\u001b[0m",
      "\u001b[0;31mModuleNotFoundError\u001b[0m                       Traceback (most recent call last)",
      "Cell \u001b[0;32mIn[2], line 1\u001b[0m\n\u001b[0;32m----> 1\u001b[0m \u001b[38;5;28;01mfrom\u001b[39;00m \u001b[38;5;21;01mflask\u001b[39;00m \u001b[38;5;28;01mimport\u001b[39;00m Flask\n\u001b[1;32m      3\u001b[0m app \u001b[38;5;241m=\u001b[39m Flask(\u001b[38;5;18m__name__\u001b[39m)\n\u001b[1;32m      5\u001b[0m \u001b[38;5;129m@app\u001b[39m\u001b[38;5;241m.\u001b[39mroute(\u001b[38;5;124m'\u001b[39m\u001b[38;5;124m/welcome\u001b[39m\u001b[38;5;124m'\u001b[39m)\n\u001b[1;32m      6\u001b[0m \u001b[38;5;28;01mdef\u001b[39;00m \u001b[38;5;21mwelcome\u001b[39m():\n",
      "\u001b[0;31mModuleNotFoundError\u001b[0m: No module named 'flask'"
     ]
    }
   ],
   "source": [
    "from flask import Flask\n",
    "\n",
    "app = Flask(__name__)\n",
    "\n",
    "@app.route('/welcome')\n",
    "def welcome():\n",
    "    return 'Welcome to ABC Corporation'\n",
    "\n",
    "@app.route('/')\n",
    "def index():\n",
    "    company_name = \"ABC Corporation\"\n",
    "    location = \"India\"\n",
    "    contact_detail = \"999-999-9999\"\n",
    "    \n",
    "    return f\"Company Name: {company_name}<br>Location: {location}<br>Contact Detail: {contact_detail}\"\n",
    "\n",
    "if __name__ == '__main__':\n",
    "    app.run()"
   ]
  },
  {
   "cell_type": "code",
   "execution_count": 5,
   "id": "167cabf3-1762-4756-a6b5-fc4109ea2ea1",
   "metadata": {},
   "outputs": [
    {
     "data": {
      "text/html": [
       "<img src=\"Screenshot 2023-05-16 111111.jpeg\" width=\"300\" height=\"300\"/>"
      ],
      "text/plain": [
       "<IPython.core.display.Image object>"
      ]
     },
     "execution_count": 5,
     "metadata": {},
     "output_type": "execute_result"
    }
   ],
   "source": [
    "\n",
    "# import image module\n",
    "from IPython.display import Image\n",
    "\n",
    "# get the image\n",
    "Image(url=\"Screenshot 2023-05-16 111111.jpeg\", width=300, height=300)"
   ]
  },
  {
   "cell_type": "markdown",
   "id": "a3ebd604-62cd-4ad4-9a2c-754d254949b8",
   "metadata": {},
   "source": [
    "Q5. What function is used in Flask for URL Building? Write a Python code to demonstrate the working of the url_for() function."
   ]
  },
  {
   "cell_type": "markdown",
   "id": "09723891-dd24-4e03-b65e-afe58da1e666",
   "metadata": {},
   "source": [
    "Ans."
   ]
  },
  {
   "cell_type": "markdown",
   "id": "3f2f5f66-4699-42b5-b932-e1ab47ac83c6",
   "metadata": {},
   "source": [
    "In Flask, the url_for() function is used for URL Building. It takes the endpoint name as its first argument and generates a URL for that endpoint based on the routing rules defined in the application. The url_for() function helps to create links to pages within a Flask application without hard coding URLs.\n",
    "\n",
    "By using the url_for() function, we can write cleaner and more maintainable code by avoiding hard-coded URLs and instead generating URLs dynamically based on the endpoint names. This makes it easier to modify the URL structure of our application without having to change all instances of hard-coded URLs in our codebase."
   ]
  },
  {
   "cell_type": "code",
   "execution_count": null,
   "id": "436ddefd-aa3b-407f-b411-d5b6cf4e17bd",
   "metadata": {},
   "outputs": [],
   "source": [
    "# Here's an example code snippet demonstrating the working of the url_for() function:\n",
    "\n",
    "\n",
    "from flask import Flask, url_for\n",
    "\n",
    "app = Flask(__name__)\n",
    "\n",
    "@app.route('/')\n",
    "def home():\n",
    "    return 'This is the home page.'\n",
    "\n",
    "@app.route('/about')\n",
    "def about():\n",
    "    return 'This is the about page.'\n",
    "\n",
    "@app.route('/contact')\n",
    "def contact():\n",
    "    return 'This is the contact page.'\n",
    "\n",
    "@app.route('/user/<username>')\n",
    "def user_profile(username):\n",
    "    return f'This is the profile page for {username}'\n",
    "\n",
    "if __name__ == '__main__':\n",
    "    with app.test_request_context():\n",
    "        print(url_for('home'))  # Output: \"/\"\n",
    "        print(url_for('about'))  # Output: \"/about\"\n",
    "        print(url_for('contact'))  # Output: \"/contact\"\n",
    "        print(url_for('user_profile', username='john'))  # Output: \"/user/john\""
   ]
  }
 ],
 "metadata": {
  "kernelspec": {
   "display_name": "Python 3 (ipykernel)",
   "language": "python",
   "name": "python3"
  },
  "language_info": {
   "codemirror_mode": {
    "name": "ipython",
    "version": 3
   },
   "file_extension": ".py",
   "mimetype": "text/x-python",
   "name": "python",
   "nbconvert_exporter": "python",
   "pygments_lexer": "ipython3",
   "version": "3.10.8"
  }
 },
 "nbformat": 4,
 "nbformat_minor": 5
}
