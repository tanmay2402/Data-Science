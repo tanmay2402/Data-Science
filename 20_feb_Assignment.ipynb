{
 "cells": [
  {
   "cell_type": "markdown",
   "id": "c36db865-41d3-418f-93ae-b4c5b04dbf73",
   "metadata": {},
   "source": [
    "Q1. Explain GET and POST methods."
   ]
  },
  {
   "cell_type": "markdown",
   "id": "5f3f7661-d94f-41ad-8bcf-70bfb3f640d1",
   "metadata": {},
   "source": [
    "Ans."
   ]
  },
  {
   "cell_type": "markdown",
   "id": "1aa7aee2-3edc-47c2-a8b0-e746ad298d63",
   "metadata": {},
   "source": [
    "In HTTP (Hypertext Transfer Protocol), GET and POST are two of the most commonly used request methods for web applications.\n",
    "\n",
    "GET method:\n",
    "\n",
    "1.The GET method is used to retrieve data from a particular resource on the server. It is an idempotent method, meaning it can be called multiple times without changing the state of the server.\n",
    "2.The GET method sends data in the URL query string, which is visible in the browser's address bar.\n",
    "3.This method should be used when you want to read or retrieve data from the server. For example, when fetching a page, an image, or some other resource.\n",
    "\n",
    "POST method:\n",
    "\n",
    "1.The POST method is used to submit data to be processed by a specific resource on the server. It is a non-idempotent method, meaning it changes the state of the server every time it is called.\n",
    "2.The POST method sends data in the body of the HTTP request, which is not visible in the browser's address bar.\n",
    "3.This method should be used when you want to create or update data on the server. For example, when submitting a form, sending user input, or uploading a file.\n",
    "\n",
    "Here are some key differences between GET and POST methods:\n",
    "\n",
    "1.ata visibility: GET requests expose the data being transmitted in the URL query string, which can be seen by anyone who has access to the browser's address bar, while POST requests transmit data in the request body and thus are more secure.\n",
    "\n",
    "2.Caching: GET requests can be cached, while POST requests are not cacheable.\n",
    "\n",
    "3.Idempotency: GET requests are idempotent, while POST requests are not."
   ]
  },
  {
   "cell_type": "markdown",
   "id": "d0aa4da4-9fee-4948-9223-40a7683d07fa",
   "metadata": {},
   "source": [
    "Q2. Why is request used in Flask?"
   ]
  },
  {
   "cell_type": "markdown",
   "id": "820209ac-2cd0-400d-9144-881f1279d41d",
   "metadata": {},
   "source": [
    "Ans."
   ]
  },
  {
   "cell_type": "markdown",
   "id": "0598ee44-c0c1-4404-b51e-1e50879c4bfc",
   "metadata": {},
   "source": [
    "In Flask, the request object is used to access incoming request data such as form data, query parameters, and files uploaded in the request. It provides a way for the server-side code to interact with the client-side code by providing a means to retrieve data sent from the client in an HTTP request.\n",
    "\n",
    "By using the request object, you can easily get the values of form fields, URL parameters, headers and much more. You can also use it to handle file uploads and cookies. The request object is part of the Flask framework and is included in the Werkzeug library that Flask uses."
   ]
  },
  {
   "cell_type": "markdown",
   "id": "345691c0-5630-4775-8cc9-7ed8d1b499f4",
   "metadata": {},
   "source": [
    "Q3. Why is redirect() used in Flask?"
   ]
  },
  {
   "cell_type": "markdown",
   "id": "184e1fce-064c-4694-acd6-a3ace7b0c79d",
   "metadata": {},
   "source": [
    "Ans."
   ]
  },
  {
   "cell_type": "markdown",
   "id": "4740d29f-4474-4390-b140-f04d6ce8cca6",
   "metadata": {},
   "source": [
    "In Flask, the redirect() function is used to redirect the user to a different URL. It allows you to send the client to a different location after they have completed some action on your website.\n",
    "\n",
    "The most common use case for redirect() is after a successful form submission. For example, after a user submits a form on your website, you may want to redirect them to a \"Thank You\" page or back to the homepage."
   ]
  },
  {
   "cell_type": "markdown",
   "id": "5cd6b63a-d6d0-4182-b1c1-7d87acfebf31",
   "metadata": {},
   "source": [
    "Q4. What are templates in Flask? Why is the render_template() function used?\n",
    "\n"
   ]
  },
  {
   "cell_type": "markdown",
   "id": "6a029943-51a3-41de-b1eb-8acede3f204f",
   "metadata": {},
   "source": [
    "Ans."
   ]
  },
  {
   "cell_type": "markdown",
   "id": "f7c8dc98-1312-42ab-a5bc-2d17900675c8",
   "metadata": {},
   "source": [
    "In Flask, templates are used to generate dynamic HTML content that can be returned as a response to an HTTP request. Templates allow you to separate the presentation logic from the business logic of your code, making it easier to maintain and update your application.\n",
    "\n",
    "Templates in Flask are typically written using Jinja2, which is a modern and designer-friendly templating language for Python. Jinja2 allows you to embed variables, expressions, and control structures within your HTML template files.\n",
    "\n",
    "The render_template() function is used to render the Jinja2 templates. It takes the name of the template file as its first argument and any additional keyword arguments represent variables that should be available in the template."
   ]
  },
  {
   "cell_type": "markdown",
   "id": "c0149105-1530-4a12-8a9c-94967824ada5",
   "metadata": {},
   "source": [
    "Q5. Create a simple API. Use Postman to test it. Attach the screenshot of the output in the Jupyter Notebook."
   ]
  },
  {
   "cell_type": "markdown",
   "id": "caea361b-72b4-4df2-bcb8-1a403648dfe7",
   "metadata": {},
   "source": [
    "Ans."
   ]
  },
  {
   "cell_type": "code",
   "execution_count": 1,
   "id": "7e94ca17-5fd8-4eb8-be07-a83e368e16ab",
   "metadata": {},
   "outputs": [
    {
     "ename": "ModuleNotFoundError",
     "evalue": "No module named 'flask'",
     "output_type": "error",
     "traceback": [
      "\u001b[0;31m---------------------------------------------------------------------------\u001b[0m",
      "\u001b[0;31mModuleNotFoundError\u001b[0m                       Traceback (most recent call last)",
      "Cell \u001b[0;32mIn[1], line 1\u001b[0m\n\u001b[0;32m----> 1\u001b[0m \u001b[38;5;28;01mfrom\u001b[39;00m \u001b[38;5;21;01mflask\u001b[39;00m \u001b[38;5;28;01mimport\u001b[39;00m Flask\n\u001b[1;32m      3\u001b[0m app \u001b[38;5;241m=\u001b[39m Flask(\u001b[38;5;18m__name__\u001b[39m)\n\u001b[1;32m      5\u001b[0m \u001b[38;5;129m@app\u001b[39m\u001b[38;5;241m.\u001b[39mroute(\u001b[38;5;124m'\u001b[39m\u001b[38;5;124m/postman\u001b[39m\u001b[38;5;124m'\u001b[39m)\n\u001b[1;32m      6\u001b[0m \u001b[38;5;28;01mdef\u001b[39;00m \u001b[38;5;21mhello\u001b[39m():\n",
      "\u001b[0;31mModuleNotFoundError\u001b[0m: No module named 'flask'"
     ]
    }
   ],
   "source": [
    "from flask import Flask\n",
    "\n",
    "app = Flask(__name__)\n",
    "\n",
    "@app.route('/postman')\n",
    "def hello():\n",
    "    return 'Hello, World!'\n",
    "\n",
    "if __name__ == '__main__':\n",
    "    app.run()"
   ]
  }
 ],
 "metadata": {
  "kernelspec": {
   "display_name": "Python 3 (ipykernel)",
   "language": "python",
   "name": "python3"
  },
  "language_info": {
   "codemirror_mode": {
    "name": "ipython",
    "version": 3
   },
   "file_extension": ".py",
   "mimetype": "text/x-python",
   "name": "python",
   "nbconvert_exporter": "python",
   "pygments_lexer": "ipython3",
   "version": "3.10.8"
  }
 },
 "nbformat": 4,
 "nbformat_minor": 5
}
